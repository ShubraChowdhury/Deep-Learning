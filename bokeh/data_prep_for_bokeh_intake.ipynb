{
 "cells": [
  {
   "cell_type": "code",
   "execution_count": null,
   "metadata": {},
   "outputs": [],
   "source": [
    "import pandas as pd\n",
    "import re\n",
    "import numpy as np\n",
    "import time\n",
    "import glob, os\n",
    "import re\n",
    "import os.path\n"
   ]
  },
  {
   "cell_type": "code",
   "execution_count": null,
   "metadata": {},
   "outputs": [],
   "source": [
    "cols = ['BC_DT','ID_BB_GLOBAL','REGION','CERT','BANK_NAME','BB_3M_DEFAULT_PROB','BB_6M_DEFAULT_PROB','BB_5Y_DEFAULT_PROB','BB_RSK_ISSR_W_WATCH', 'RSK_BB_ISSR_W_WATCH_CHG_DATE',  'RSK_BB_ISSR_LIKELIHOOD_OF_DFLT',  'RSK_BB_IMPLIED_CDS_SPREAD','BB_RSK_ISSR_W_WATCH_NUM', 'RSK_BB_ISSR_DEFAULT_NUM']\n",
    "dtypes = {'BC_DT':'object','ID_BB_GLOBAL':'object','REGION':'object','CERT':'object','BANK_NAME':'object','BB_3M_DEFAULT_PROB':'float64','BB_6M_DEFAULT_PROB':'float64','BB_5Y_DEFAULT_PROB':'float64','BB_RSK_ISSR_W_WATCH':'object', 'RSK_BB_ISSR_W_WATCH_CHG_DATE':'object',  'RSK_BB_ISSR_LIKELIHOOD_OF_DFLT':'float64','RSK_BB_IMPLIED_CDS_SPREAD':'float64','BB_RSK_ISSR_W_WATCH_NUM':'float64','RSK_BB_ISSR_DEFAULT_NUM':'float64'}\n",
    "pdt =['BC_DT']\n",
    "df = pd.read_csv('drsk_20180329.csv', sep=',', header=0,parse_dates=pdt,  dtype=dtypes,usecols=cols, encoding = \"ISO-8859-1\" ,low_memory=True )\n"
   ]
  },
  {
   "cell_type": "code",
   "execution_count": null,
   "metadata": {},
   "outputs": [],
   "source": [
    "df_break = df.copy()"
   ]
  },
  {
   "cell_type": "code",
   "execution_count": null,
   "metadata": {},
   "outputs": [],
   "source": [
    "df_break = df_break.reset_index()\n",
    "df_break = df_break.set_index(['BC_DT'])\n",
    "df_break = df_break.sort_index(ascending=True)"
   ]
  },
  {
   "cell_type": "code",
   "execution_count": null,
   "metadata": {},
   "outputs": [],
   "source": [
    "df_break['3M_DEF_mean_by_day'] = df_break.groupby(df_break.index)['BB_3M_DEFAULT_PROB'].mean()\n",
    "df_break['6M_DEF_mean_by_day'] = df_break.groupby(df_break.index)['BB_6M_DEFAULT_PROB'].mean()\n",
    "df_break['5Y_DEF_mean_by_day'] = df_break.groupby(df_break.index)['BB_5Y_DEFAULT_PROB'].mean()\n",
    "df_break['1Y_DEF_mean_by_day'] = df_break.groupby(df_break.index)['RSK_BB_ISSR_LIKELIHOOD_OF_DFLT'].mean()"
   ]
  },
  {
   "cell_type": "code",
   "execution_count": null,
   "metadata": {},
   "outputs": [],
   "source": [
    "df_break_copy= df_break.copy()\n",
    "df_break_copy =df_break_copy.reset_index()\n",
    "df_break_copy=df_break_copy.fillna(\"\")"
   ]
  },
  {
   "cell_type": "code",
   "execution_count": null,
   "metadata": {},
   "outputs": [],
   "source": [
    "df_3M_REG = pd.DataFrame()\n",
    "df_3M_REG = df_break_copy.groupby(['BC_DT','REGION'])['BB_3M_DEFAULT_PROB'].mean().reset_index(1,drop=False)\n",
    "df_3M_REG.rename(columns={'BC_DT':'BC_DT','REGION':'REGION' ,'BB_3M_DEFAULT_PROB': 'REG_MEAN_3M'}, inplace=True)\n",
    "\n",
    "df_6M_REG = pd.DataFrame()\n",
    "df_6M_REG = df_break_copy.groupby(['BC_DT','REGION'])['BB_6M_DEFAULT_PROB'].mean().reset_index(1,drop=False)\n",
    "df_6M_REG.rename(columns={'BC_DT':'BC_DT','REGION':'REGION' ,'BB_6M_DEFAULT_PROB': 'REG_MEAN_6M'}, inplace=True)\n",
    "\n",
    "df_5Y_REG = pd.DataFrame()\n",
    "df_5Y_REG = df_break_copy.groupby(['BC_DT','REGION'])['BB_5Y_DEFAULT_PROB'].mean().reset_index(1,drop=False)\n",
    "df_5Y_REG.rename(columns={'BC_DT':'BC_DT','REGION':'REGION' ,'BB_5Y_DEFAULT_PROB': 'REG_MEAN_5Y'}, inplace=True)\n",
    "\n",
    "df_1Y_REG = pd.DataFrame()\n",
    "df_1Y_REG = df_break_copy.groupby(['BC_DT','REGION'])['RSK_BB_ISSR_LIKELIHOOD_OF_DFLT'].mean().reset_index(1,drop=False)\n",
    "df_1Y_REG.rename(columns={'BC_DT':'BC_DT','REGION':'REGION' ,'RSK_BB_ISSR_LIKELIHOOD_OF_DFLT': 'REG_MEAN_1Y'}, inplace=True)\n",
    "\n",
    "df_3M_REG =df_3M_REG.reset_index()\n",
    "df_6M_REG =df_6M_REG.reset_index()\n",
    "df_5Y_REG =df_5Y_REG.reset_index()\n",
    "df_1Y_REG =df_1Y_REG.reset_index()\n",
    "\n",
    "df_3M_REG=df_3M_REG.fillna(\"\")\n",
    "df_6M_REG=df_6M_REG.fillna(\"\")\n",
    "df_5Y_REG=df_5Y_REG.fillna(\"\")\n",
    "df_1Y_REG=df_1Y_REG.fillna(\"\")\n",
    "\n",
    "\n",
    "df_m_3m = pd.DataFrame()\n",
    "df_m_6m = pd.DataFrame()\n",
    "df_m_5y = pd.DataFrame()\n",
    "df_m_1y = pd.DataFrame()\n",
    "\n",
    "df_m_3m = df_break_copy.merge(df_3M_REG,how='left', left_on=['BC_DT','REGION'], right_on=['BC_DT','REGION'])\n",
    "df_m_6m = df_m_3m.merge(df_6M_REG,how='left', left_on=['BC_DT','REGION'], right_on=['BC_DT','REGION'])\n",
    "df_m_5y = df_m_6m.merge(df_5Y_REG,how='left', left_on=['BC_DT','REGION'], right_on=['BC_DT','REGION'])\n",
    "df_m_1y = df_m_5y.merge(df_1Y_REG,how='left', left_on=['BC_DT','REGION'], right_on=['BC_DT','REGION'])\n",
    "\n",
    "df_agg_date = df_m_1y.copy()\n",
    "\n"
   ]
  },
  {
   "cell_type": "code",
   "execution_count": null,
   "metadata": {},
   "outputs": [],
   "source": [
    "df_agg_date[['BC_DT','REGION','REG_MEAN_3M','REG_MEAN_6M','REG_MEAN_5Y','REG_MEAN_1Y']][(df_agg_date[\"BC_DT\"]=='2007-01-01') & (df_agg_date[\"REGION\"] =='Atlanta')][:5]"
   ]
  },
  {
   "cell_type": "code",
   "execution_count": null,
   "metadata": {},
   "outputs": [],
   "source": [
    "df_agg_date_MA = df_agg_date.copy()"
   ]
  },
  {
   "cell_type": "code",
   "execution_count": null,
   "metadata": {},
   "outputs": [],
   "source": [
    "df_3M_REG_MA = df_3M_REG.copy()\n",
    "df_6M_REG_MA = df_6M_REG.copy()\n",
    "df_5Y_REG_MA = df_5Y_REG.copy()\n",
    "df_1Y_REG_MA = df_1Y_REG.copy()"
   ]
  },
  {
   "cell_type": "code",
   "execution_count": null,
   "metadata": {},
   "outputs": [],
   "source": [
    "df_3M_REG_MA.rename(columns={'BC_DT':'BC_DT','REGION':'REGION' ,'REG_MEAN_3M': 'REG_MEAN_3M_MA'}, inplace=True)\n",
    "df_6M_REG_MA.rename(columns={'BC_DT':'BC_DT','REGION':'REGION' ,'REG_MEAN_6M': 'REG_MEAN_6M_MA'}, inplace=True)\n",
    "df_5Y_REG_MA.rename(columns={'BC_DT':'BC_DT','REGION':'REGION' ,'REG_MEAN_5Y': 'REG_MEAN_5Y_MA'}, inplace=True)\n",
    "df_1Y_REG_MA.rename(columns={'BC_DT':'BC_DT','REGION':'REGION' ,'REG_MEAN_1Y': 'REG_MEAN_1Y_MA'}, inplace=True)"
   ]
  },
  {
   "cell_type": "code",
   "execution_count": null,
   "metadata": {},
   "outputs": [],
   "source": [
    "df_3M_REG_MA = df_3M_REG_MA.set_index('BC_DT')\n",
    "df_3M_REG_MA = df_3M_REG_MA.sort_index(ascending=True)\n",
    "\n",
    "df_6M_REG_MA = df_6M_REG_MA.set_index('BC_DT')\n",
    "df_6M_REG_MA = df_6M_REG_MA.sort_index(ascending=True)\n",
    "\n",
    "df_5Y_REG_MA = df_5Y_REG_MA.set_index('BC_DT')\n",
    "df_5Y_REG_MA = df_5Y_REG_MA.sort_index(ascending=True)\n",
    "\n",
    "df_1Y_REG_MA = df_1Y_REG_MA.set_index('BC_DT')\n",
    "df_1Y_REG_MA = df_1Y_REG_MA.sort_index(ascending=True)\n"
   ]
  },
  {
   "cell_type": "code",
   "execution_count": null,
   "metadata": {},
   "outputs": [],
   "source": [
    "df_1Y_REG_MA[:2]"
   ]
  },
  {
   "cell_type": "code",
   "execution_count": null,
   "metadata": {},
   "outputs": [],
   "source": [
    "df_REG_MEAN_3M_MA = pd.DataFrame()\n",
    "df_REG_MEAN_6M_MA = pd.DataFrame()\n",
    "df_REG_MEAN_5Y_MA = pd.DataFrame()\n",
    "df_REG_MEAN_1Y_MA = pd.DataFrame()"
   ]
  },
  {
   "cell_type": "code",
   "execution_count": null,
   "metadata": {},
   "outputs": [],
   "source": [
    "df_REG_MEAN_3M_MA=df_3M_REG_MA.groupby('REGION')['REG_MEAN_3M_MA'].rolling(window=30,center=False).mean().reset_index(0,drop=False)\n",
    "df_REG_MEAN_6M_MA=df_6M_REG_MA.groupby('REGION')['REG_MEAN_6M_MA'].rolling(window=30,center=False).mean().reset_index(0,drop=False)\n",
    "df_REG_MEAN_5Y_MA=df_5Y_REG_MA.groupby('REGION')['REG_MEAN_5Y_MA'].rolling(window=30,center=False).mean().reset_index(0,drop=False)\n",
    "df_REG_MEAN_1Y_MA=df_1Y_REG_MA.groupby('REGION')['REG_MEAN_1Y_MA'].rolling(window=30,center=False).mean().reset_index(0,drop=False)\n"
   ]
  },
  {
   "cell_type": "code",
   "execution_count": null,
   "metadata": {},
   "outputs": [],
   "source": [
    "print(len(df_REG_MEAN_3M_MA), len(df_REG_MEAN_6M_MA),len(df_REG_MEAN_5Y_MA), len(df_5Y_REG_MA), len(df_1Y_REG_MA))"
   ]
  },
  {
   "cell_type": "code",
   "execution_count": null,
   "metadata": {},
   "outputs": [],
   "source": [
    "df_REG_MEAN_1Y_MA[df_REG_MEAN_1Y_MA['REGION']=='Atlanta'][28:32]"
   ]
  },
  {
   "cell_type": "code",
   "execution_count": null,
   "metadata": {},
   "outputs": [],
   "source": [
    "df_REG_MEAN_3M_MA=df_REG_MEAN_3M_MA.reset_index()\n",
    "df_REG_MEAN_5Y_MA=df_REG_MEAN_5Y_MA.reset_index()\n",
    "df_REG_MEAN_6M_MA=df_REG_MEAN_6M_MA.reset_index()\n",
    "df_REG_MEAN_1Y_MA=df_REG_MEAN_1Y_MA.reset_index()"
   ]
  },
  {
   "cell_type": "code",
   "execution_count": null,
   "metadata": {},
   "outputs": [],
   "source": [
    "df_REG_MEAN_1Y_MA[df_REG_MEAN_1Y_MA['REGION']=='Atlanta'][28:32]"
   ]
  },
  {
   "cell_type": "code",
   "execution_count": null,
   "metadata": {},
   "outputs": [],
   "source": [
    "df_agg_date_MA_comb = df_agg_date.copy()"
   ]
  },
  {
   "cell_type": "code",
   "execution_count": null,
   "metadata": {},
   "outputs": [],
   "source": [
    "df_MA_R1 = pd.DataFrame()\n",
    "df_MA_R2 = pd.DataFrame()\n",
    "df_MA_R3 = pd.DataFrame()\n",
    "df_MA_R4 = pd.DataFrame()"
   ]
  },
  {
   "cell_type": "code",
   "execution_count": null,
   "metadata": {},
   "outputs": [],
   "source": [
    "\n",
    "df_MA_R1 = df_agg_date_MA_comb.merge(df_REG_MEAN_3M_MA,how='left', left_on=['BC_DT','REGION'], right_on=['BC_DT','REGION'])\n",
    "df_MA_R2=df_MA_R1.merge(df_REG_MEAN_6M_MA,how='left', left_on=['BC_DT','REGION'], right_on=['BC_DT','REGION'])\n",
    "df_MA_R3=df_MA_R2.merge(df_REG_MEAN_5Y_MA,how='left', left_on=['BC_DT','REGION'], right_on=['BC_DT','REGION'])\n",
    "df_MA_R4=df_MA_R3.merge(df_REG_MEAN_1Y_MA,how='left', left_on=['BC_DT','REGION'], right_on=['BC_DT','REGION'])\n",
    "\n",
    "df_with_REG_SUMMARY = df_MA_R4.copy()"
   ]
  },
  {
   "cell_type": "code",
   "execution_count": null,
   "metadata": {},
   "outputs": [],
   "source": [
    "df_with_REG_SUMMARY[df_with_REG_SUMMARY['REGION']=='Atlanta'][28:32]"
   ]
  },
  {
   "cell_type": "code",
   "execution_count": null,
   "metadata": {},
   "outputs": [],
   "source": [
    "len(df_with_REG_SUMMARY)"
   ]
  },
  {
   "cell_type": "code",
   "execution_count": null,
   "metadata": {},
   "outputs": [],
   "source": [
    "len(df_with_REG_SUMMARY.BC_DT.unique())"
   ]
  },
  {
   "cell_type": "code",
   "execution_count": null,
   "metadata": {},
   "outputs": [],
   "source": [
    "df_day_raw = pd.DataFrame()\n",
    "df_day_date_raw = pd.DataFrame()"
   ]
  },
  {
   "cell_type": "code",
   "execution_count": null,
   "metadata": {},
   "outputs": [],
   "source": [
    "df_day_raw = df_with_REG_SUMMARY[['BC_DT','3M_DEF_mean_by_day','6M_DEF_mean_by_day','5Y_DEF_mean_by_day','1Y_DEF_mean_by_day']]"
   ]
  },
  {
   "cell_type": "code",
   "execution_count": null,
   "metadata": {},
   "outputs": [],
   "source": [
    "df_day_date_raw = df_day_raw.drop_duplicates()"
   ]
  },
  {
   "cell_type": "code",
   "execution_count": null,
   "metadata": {},
   "outputs": [],
   "source": [
    "df_day_date_raw = df_day_date_raw.set_index('BC_DT')"
   ]
  },
  {
   "cell_type": "code",
   "execution_count": null,
   "metadata": {},
   "outputs": [],
   "source": [
    "df_day_date_raw['3M_Day_mean_MA'] = df_day_date_raw['3M_DEF_mean_by_day'].rolling(window=30,center=False).mean()\n",
    "df_day_date_raw['6M_Day_mean_MA'] = df_day_date_raw['6M_DEF_mean_by_day'].rolling(window=30,center=False).mean()\n",
    "df_day_date_raw['5Y_Day_mean_MA'] = df_day_date_raw['5Y_DEF_mean_by_day'].rolling(window=30,center=False).mean()\n",
    "df_day_date_raw['1Y_Day_mean_MA'] = df_day_date_raw['1Y_DEF_mean_by_day'].rolling(window=30,center=False).mean()"
   ]
  },
  {
   "cell_type": "code",
   "execution_count": null,
   "metadata": {},
   "outputs": [],
   "source": [
    "df_day_date_raw[:35][df_day_date_raw['1Y_Day_mean_MA'].notnull()]"
   ]
  },
  {
   "cell_type": "code",
   "execution_count": null,
   "metadata": {},
   "outputs": [],
   "source": [
    "df_DAY_SMA = df_day_date_raw.copy()\n",
    "df_DAY_SMA = df_DAY_SMA.reset_index()\n",
    "df_ALL_DATA_SUMM = pd.DataFrame()"
   ]
  },
  {
   "cell_type": "code",
   "execution_count": null,
   "metadata": {},
   "outputs": [],
   "source": [
    "df_ALL_DATA_SUMM=df_with_REG_SUMMARY.merge(df_DAY_SMA,how='left', left_on=['BC_DT'], right_on=['BC_DT'])\n"
   ]
  },
  {
   "cell_type": "code",
   "execution_count": null,
   "metadata": {},
   "outputs": [],
   "source": [
    "len(df_ALL_DATA_SUMM)"
   ]
  },
  {
   "cell_type": "code",
   "execution_count": null,
   "metadata": {},
   "outputs": [],
   "source": [
    "df_ALL_DATA_SUMM[:2]"
   ]
  },
  {
   "cell_type": "code",
   "execution_count": null,
   "metadata": {},
   "outputs": [],
   "source": [
    "df_ALL_DATA_SUMM.to_csv('data/prep_data/df_ALL_DATA_SUMM.csv')"
   ]
  },
  {
   "cell_type": "code",
   "execution_count": null,
   "metadata": {},
   "outputs": [],
   "source": [
    "cols = ['BC_DT','ID_BB_GLOBAL','REGION','CERT','BANK_NAME','BB_3M_DEFAULT_PROB','BB_6M_DEFAULT_PROB','BB_5Y_DEFAULT_PROB','3M_DEF_mean_by_day_x', '6M_DEF_mean_by_day_x', '5Y_DEF_mean_by_day_x', 'REG_MEAN_3M', 'REG_MEAN_6M', 'REG_MEAN_5Y', 'REG_MEAN_3M_MA', 'REG_MEAN_6M_MA', 'REG_MEAN_5Y_MA', '3M_DEF_mean_by_day_y', '6M_DEF_mean_by_day_y', '5Y_DEF_mean_by_day_y', '3M_Day_mean_MA', '6M_Day_mean_MA', '5Y_Day_mean_MA','BB_RSK_ISSR_W_WATCH', 'RSK_BB_ISSR_W_WATCH_CHG_DATE', 'RSK_BB_ISSR_LIKELIHOOD_OF_DFLT', 'RSK_BB_IMPLIED_CDS_SPREAD', 'BB_RSK_ISSR_W_WATCH_NUM', 'RSK_BB_ISSR_DEFAULT_NUM', '1Y_DEF_mean_by_day_x', 'REG_MEAN_1Y', 'REG_MEAN_1Y_MA', '1Y_DEF_mean_by_day_y', '1Y_Day_mean_MA']\n",
    "dtypes = {'BC_DT':'object', 'ID_BB_GLOBAL':'object', 'REGION':'object', 'CERT':'object', 'BANK_NAME':'object', 'BB_3M_DEFAULT_PROB':'float64', 'BB_6M_DEFAULT_PROB':'float64', 'BB_5Y_DEFAULT_PROB':'float64', '3M_DEF_mean_by_day_x':'float64', '6M_DEF_mean_by_day_x':'float64', '5Y_DEF_mean_by_day_x':'float64', 'REG_MEAN_3M':'float64', 'REG_MEAN_6M':'float64', 'REG_MEAN_5Y':'float64', 'REG_MEAN_3M_MA':'float64', 'REG_MEAN_6M_MA':'float64', 'REG_MEAN_5Y_MA':'float64', '3M_DEF_mean_by_day_y':'float64', '6M_DEF_mean_by_day_y':'float64', '5Y_DEF_mean_by_day_y':'float64', '3M_Day_mean_MA':'float64', '6M_Day_mean_MA':'float64', '5Y_Day_mean_MA':'float64','BB_RSK_ISSR_W_WATCH':'object',  'RSK_BB_ISSR_W_WATCH_CHG_DATE':'object',  'RSK_BB_ISSR_LIKELIHOOD_OF_DFLT':'float64',  'RSK_BB_IMPLIED_CDS_SPREAD':'float64',  'BB_RSK_ISSR_W_WATCH_NUM':'float64',  'RSK_BB_ISSR_DEFAULT_NUM':'float64',  '1Y_DEF_mean_by_day_x':'float64',  'REG_MEAN_1Y':'float64',  'REG_MEAN_1Y_MA':'float64',  '1Y_DEF_mean_by_day_y':'float64',  '1Y_Day_mean_MA':'float64'}\n",
    "\n",
    "pdt =['BC_DT']\n",
    "df_df_ALL_DATA_SUMM = pd.read_csv('data/prep_data/df_ALL_DATA_SUMM.csv', sep=',', header=0,parse_dates=pdt, dtype=dtypes,usecols=cols,  encoding = \"ISO-8859-1\" ,low_memory=True )\n"
   ]
  },
  {
   "cell_type": "code",
   "execution_count": null,
   "metadata": {},
   "outputs": [],
   "source": [
    "len(df_df_ALL_DATA_SUMM)\n"
   ]
  },
  {
   "cell_type": "code",
   "execution_count": null,
   "metadata": {},
   "outputs": [],
   "source": [
    "len(list(df_df_ALL_DATA_SUMM[\"ID_BB_GLOBAL\"].unique()))"
   ]
  },
  {
   "cell_type": "code",
   "execution_count": null,
   "metadata": {},
   "outputs": [],
   "source": [
    "for x in list(df_df_ALL_DATA_SUMM[\"ID_BB_GLOBAL\"].unique()):\n",
    "    y = x\n",
    "    zz = df_df_ALL_DATA_SUMM[df_df_ALL_DATA_SUMM[\"ID_BB_GLOBAL\"]==x]\n",
    "    zz.to_csv('data/all_region/'+y+'.csv')\n",
    "    \n",
    "#%timeit df_break "
   ]
  },
  {
   "cell_type": "code",
   "execution_count": null,
   "metadata": {},
   "outputs": [],
   "source": [
    "\n",
    "\n",
    "i =0\n",
    "for file in glob.glob(\"data/all_region/*.csv\"):\n",
    "    z =os.path.basename(file)\n",
    "    y = os.path.splitext(z)[0]\n",
    "    #print(os.path.splitext(file)[0])\n",
    "    #print(z)\n",
    "    #print(y)\n",
    "    df_SMA_EMA = y\n",
    "    cols = ['BC_DT','ID_BB_GLOBAL','REGION','CERT','BANK_NAME','BB_3M_DEFAULT_PROB','BB_6M_DEFAULT_PROB','BB_5Y_DEFAULT_PROB','3M_DEF_mean_by_day_x', '6M_DEF_mean_by_day_x', '5Y_DEF_mean_by_day_x', 'REG_MEAN_3M', 'REG_MEAN_6M', 'REG_MEAN_5Y', 'REG_MEAN_3M_MA', 'REG_MEAN_6M_MA', 'REG_MEAN_5Y_MA', '3M_DEF_mean_by_day_y', '6M_DEF_mean_by_day_y', '5Y_DEF_mean_by_day_y', '3M_Day_mean_MA', '6M_Day_mean_MA', '5Y_Day_mean_MA','BB_RSK_ISSR_W_WATCH','RSK_BB_ISSR_W_WATCH_CHG_DATE','RSK_BB_ISSR_LIKELIHOOD_OF_DFLT','RSK_BB_IMPLIED_CDS_SPREAD','BB_RSK_ISSR_W_WATCH_NUM','RSK_BB_ISSR_DEFAULT_NUM','1Y_DEF_mean_by_day_x','1Y_DEF_mean_by_day_y','REG_MEAN_1Y','REG_MEAN_1Y_MA','1Y_Day_mean_MA']\n",
    "    dtypes = {'BC_DT':'object', 'ID_BB_GLOBAL':'object', 'REGION':'object', 'CERT':'object', 'BANK_NAME':'object', 'BB_3M_DEFAULT_PROB':'float64', 'BB_6M_DEFAULT_PROB':'float64', 'BB_5Y_DEFAULT_PROB':'float64', '3M_DEF_mean_by_day_x':'float64', '6M_DEF_mean_by_day_x':'float64', '5Y_DEF_mean_by_day_x':'float64', 'REG_MEAN_3M':'float64', 'REG_MEAN_6M':'float64', 'REG_MEAN_5Y':'float64', 'REG_MEAN_3M_MA':'float64', 'REG_MEAN_6M_MA':'float64', 'REG_MEAN_5Y_MA':'float64', '3M_DEF_mean_by_day_y':'float64', '6M_DEF_mean_by_day_y':'float64', '5Y_DEF_mean_by_day_y':'float64', '3M_Day_mean_MA':'float64', '6M_Day_mean_MA':'float64', '5Y_Day_mean_MA':'float64','BB_RSK_ISSR_W_WATCH':'object','RSK_BB_ISSR_W_WATCH_CHG_DATE':'object','RSK_BB_ISSR_LIKELIHOOD_OF_DFLT':'float64','RSK_BB_IMPLIED_CDS_SPREAD':'float64','BB_RSK_ISSR_W_WATCH_NUM':'float64','RSK_BB_ISSR_DEFAULT_NUM':'float64','1Y_DEF_mean_by_day_x':'float64','REG_MEAN_1Y':'float64','REG_MEAN_1Y_MA':'float64','1Y_Day_mean_MA':'float64'}\n",
    "    pdt =['BC_DT']\n",
    "    df_SMA_EMA = pd.read_csv('data/all_region/'+z, sep=',', header=0,parse_dates=pdt, dtype=dtypes,usecols=cols,  encoding = \"ISO-8859-1\" ,low_memory=True )\n",
    "    \n",
    "    df_SMA_EMA =df_SMA_EMA.set_index('BC_DT')\n",
    "    df_SMA_EMA = df_SMA_EMA.sort_index(ascending=True)\n",
    "    df_SMA_EMA =df_SMA_EMA.drop(['3M_DEF_mean_by_day_y', '6M_DEF_mean_by_day_y', '5Y_DEF_mean_by_day_y','1Y_DEF_mean_by_day_y'], axis=1)\n",
    "    \n",
    "    df_SMA_EMA['30D_MA_3M_by_bank'] = df_SMA_EMA['BB_3M_DEFAULT_PROB'].rolling(window=30,center=False).mean()\n",
    "    df_SMA_EMA['30D_MA_6M_by_bank'] = df_SMA_EMA['BB_6M_DEFAULT_PROB'].rolling(window=30,center=False).mean()\n",
    "    df_SMA_EMA['30D_MA_5YR_by_bank'] = df_SMA_EMA['BB_5Y_DEFAULT_PROB'].rolling(window=30,center=False).mean()\n",
    "    df_SMA_EMA['30D_MA_1YR_by_bank'] = df_SMA_EMA['RSK_BB_ISSR_LIKELIHOOD_OF_DFLT'].rolling(window=30,center=False).mean()\n",
    "    \n",
    "    df_SMA_EMA['26ema_3M_by_bank'] = df_SMA_EMA['BB_3M_DEFAULT_PROB'].ewm(span=26,min_periods=0,adjust=True,ignore_na=True).mean()\n",
    "    df_SMA_EMA['12ema_3M_by_bank'] = df_SMA_EMA['BB_3M_DEFAULT_PROB'].ewm(span=12,min_periods=0,adjust=True,ignore_na=True).mean()\n",
    "    df_SMA_EMA['MACD_3M_by_bank'] = (df_SMA_EMA['12ema_3M_by_bank'] - df_SMA_EMA['26ema_3M_by_bank'])\n",
    "\n",
    "    df_SMA_EMA['26ema_6M_by_bank'] = df_SMA_EMA['BB_6M_DEFAULT_PROB'].ewm(span=26,min_periods=0,adjust=True,ignore_na=True).mean()\n",
    "    df_SMA_EMA['12ema_6M_by_bank'] = df_SMA_EMA['BB_6M_DEFAULT_PROB'].ewm(span=12,min_periods=0,adjust=True,ignore_na=True).mean()\n",
    "    df_SMA_EMA['MACD_6M_by_bank'] = (df_SMA_EMA['12ema_6M_by_bank'] - df_SMA_EMA['26ema_6M_by_bank'])\n",
    "\n",
    "\n",
    "    df_SMA_EMA['26ema_5YR_by_bank'] = df_SMA_EMA['BB_5Y_DEFAULT_PROB'].ewm(span=26,min_periods=0,adjust=True,ignore_na=True).mean()\n",
    "    df_SMA_EMA['12ema_5YR_by_bank'] = df_SMA_EMA['BB_5Y_DEFAULT_PROB'].ewm(span=12,min_periods=0,adjust=True,ignore_na=True).mean()\n",
    "    df_SMA_EMA['MACD_5YR_by_bank'] = (df_SMA_EMA['12ema_5YR_by_bank'] - df_SMA_EMA['26ema_5YR_by_bank'])\n",
    "    \n",
    "    \n",
    "    df_SMA_EMA['26ema_1YR_by_bank'] = df_SMA_EMA['RSK_BB_ISSR_LIKELIHOOD_OF_DFLT'].ewm(span=26,min_periods=0,adjust=True,ignore_na=True).mean()\n",
    "    df_SMA_EMA['12ema_1YR_by_bank'] = df_SMA_EMA['RSK_BB_ISSR_LIKELIHOOD_OF_DFLT'].ewm(span=12,min_periods=0,adjust=True,ignore_na=True).mean()\n",
    "    df_SMA_EMA['MACD_1YR_by_bank'] = (df_SMA_EMA['12ema_1YR_by_bank'] - df_SMA_EMA['26ema_1YR_by_bank'])\n",
    "    \n",
    "\n",
    "    df_SMA_EMA.to_csv('data/final_summ_data_by_bank/'+z)\n",
    " "
   ]
  },
  {
   "cell_type": "code",
   "execution_count": null,
   "metadata": {},
   "outputs": [],
   "source": [
    "DRSK_FINAL_PREP_DATA = pd.DataFrame()\n",
    "i = 1\n",
    "for file in glob.glob(\"data/final_summ_data_by_bank/*.csv\"):\n",
    "    z =os.path.basename(file)\n",
    "    y = os.path.splitext(z)[0]\n",
    "    #print(os.path.splitext(file)[0])\n",
    "#    print(z)\n",
    "#    print(y)\n",
    "    \n",
    "    df_SMA_EMA_final = y\n",
    "    cols = ['BC_DT','ID_BB_GLOBAL','BANK_NAME','CERT','BB_3M_DEFAULT_PROB','BB_6M_DEFAULT_PROB','BB_5Y_DEFAULT_PROB','REGION','3M_DEF_mean_by_day_x','6M_DEF_mean_by_day_x','5Y_DEF_mean_by_day_x','REG_MEAN_3M','REG_MEAN_6M','REG_MEAN_5Y','REG_MEAN_3M_MA','REG_MEAN_6M_MA','REG_MEAN_5Y_MA','3M_Day_mean_MA','6M_Day_mean_MA','5Y_Day_mean_MA','30D_MA_3M_by_bank','30D_MA_6M_by_bank','30D_MA_5YR_by_bank','26ema_3M_by_bank','12ema_3M_by_bank','MACD_3M_by_bank','26ema_6M_by_bank','12ema_6M_by_bank','MACD_6M_by_bank','26ema_5YR_by_bank','12ema_5YR_by_bank','MACD_5YR_by_bank','26ema_1YR_by_bank','12ema_1YR_by_bank','MACD_1YR_by_bank','BB_RSK_ISSR_W_WATCH','RSK_BB_ISSR_W_WATCH_CHG_DATE','RSK_BB_ISSR_LIKELIHOOD_OF_DFLT','RSK_BB_IMPLIED_CDS_SPREAD','BB_RSK_ISSR_W_WATCH_NUM','RSK_BB_ISSR_DEFAULT_NUM','1Y_DEF_mean_by_day_x','REG_MEAN_1Y','REG_MEAN_1Y_MA','1Y_Day_mean_MA','30D_MA_1YR_by_bank']\n",
    "    dtypes = {'BC_DT':'object','ID_BB_GLOBAL':'object','BANK_NAME':'object','CERT':'object','BB_3M_DEFAULT_PROB':'float64','BB_6M_DEFAULT_PROB':'float64','BB_5Y_DEFAULT_PROB':'float64','REGION':'object','3M_DEF_mean_by_day_x':'float64','6M_DEF_mean_by_day_x':'float64','5Y_DEF_mean_by_day_x':'float64','REG_MEAN_3M':'float64','REG_MEAN_6M':'float64','REG_MEAN_5Y':'float64','REG_MEAN_3M_MA':'float64','REG_MEAN_6M_MA':'float64','REG_MEAN_5Y_MA':'float64','3M_Day_mean_MA':'float64','6M_Day_mean_MA':'float64','5Y_Day_mean_MA':'float64','30D_MA_3M_by_bank':'float64','30D_MA_6M_by_bank':'float64','30D_MA_5YR_by_bank':'float64','26ema_3M_by_bank':'float64','12ema_3M_by_bank':'float64','MACD_3M_by_bank':'float64','26ema_6M_by_bank':'float64','12ema_6M_by_bank':'float64','MACD_6M_by_bank':'float64','26ema_5YR_by_bank':'float64','12ema_5YR_by_bank':'float64','MACD_5YR_by_bank':'float64','26ema_1YR_by_bank':'float64','12ema_1YR_by_bank':'float64','MACD_1YR_by_bank':'float64','BB_RSK_ISSR_W_WATCH':'object','RSK_BB_ISSR_W_WATCH_CHG_DATE':'object','RSK_BB_ISSR_LIKELIHOOD_OF_DFLT':'float64','RSK_BB_IMPLIED_CDS_SPREAD':'float64','BB_RSK_ISSR_W_WATCH_NUM':'float64','RSK_BB_ISSR_DEFAULT_NUM':'float64','1Y_DEF_mean_by_day_x':'float64','REG_MEAN_1Y':'float64','REG_MEAN_1Y_MA':'float64','1Y_Day_mean_MA':'float64','30D_MA_1YR_by_bank':'float64'}\n",
    "    pdt =['BC_DT']\n",
    "    df_SMA_EMA_final = pd.read_csv('data/final_summ_data_by_bank/'+z, sep=',', header=0,parse_dates=pdt, dtype=dtypes,usecols=cols,  encoding = \"ISO-8859-1\" ,low_memory=True )\n",
    "    \n",
    "    \n",
    "    \n",
    "    DRSK_FINAL_PREP_DATA = DRSK_FINAL_PREP_DATA.append(df_SMA_EMA_final)\n",
    "#    print(len(df_SMA_EMA_final))\n",
    "    \n",
    "    if i%500 == 0 :\n",
    "      \n",
    "      print(\"As of this run {} files added to frame\".format(i))\n",
    "      \n",
    "\n",
    "    i +=1\n",
    "%timeit DRSK_FINAL_PREP_DATA\n",
    "DRSK_FINAL_PREP_DATA =DRSK_FINAL_PREP_DATA.set_index('BC_DT')\n",
    "DRSK_FINAL_PREP_DATA = DRSK_FINAL_PREP_DATA.sort_index(ascending=True)\n",
    "DRSK_FINAL_PREP_DATA.to_csv('data/final_data/DRSK_FINAL_PREP_DATA.csv')\n",
    "%timeit DRSK_FINAL_PREP_DATA"
   ]
  },
  {
   "cell_type": "markdown",
   "metadata": {},
   "source": [
    "# ANALYSIS"
   ]
  },
  {
   "cell_type": "markdown",
   "metadata": {
    "collapsed": true
   },
   "source": [
    "## Refer drsk3"
   ]
  },
  {
   "cell_type": "code",
   "execution_count": null,
   "metadata": {},
   "outputs": [],
   "source": [
    "cols = ['BC_DT','ID_BB_GLOBAL','BANK_NAME','CERT','BB_3M_DEFAULT_PROB','BB_6M_DEFAULT_PROB','BB_5Y_DEFAULT_PROB','REGION','3M_DEF_mean_by_day_x','6M_DEF_mean_by_day_x','5Y_DEF_mean_by_day_x','REG_MEAN_3M','REG_MEAN_6M','REG_MEAN_5Y','REG_MEAN_3M_MA','REG_MEAN_6M_MA','REG_MEAN_5Y_MA','3M_Day_mean_MA','6M_Day_mean_MA','5Y_Day_mean_MA','30D_MA_3M_by_bank','30D_MA_6M_by_bank','30D_MA_5YR_by_bank','26ema_3M_by_bank','12ema_3M_by_bank','MACD_3M_by_bank','26ema_6M_by_bank','12ema_6M_by_bank','MACD_6M_by_bank','26ema_5YR_by_bank','12ema_5YR_by_bank','MACD_5YR_by_bank','26ema_1YR_by_bank','12ema_1YR_by_bank','MACD_1YR_by_bank','BB_RSK_ISSR_W_WATCH','RSK_BB_ISSR_W_WATCH_CHG_DATE','RSK_BB_ISSR_LIKELIHOOD_OF_DFLT','RSK_BB_IMPLIED_CDS_SPREAD','BB_RSK_ISSR_W_WATCH_NUM','RSK_BB_ISSR_DEFAULT_NUM','1Y_DEF_mean_by_day_x','REG_MEAN_1Y','REG_MEAN_1Y_MA','1Y_Day_mean_MA','30D_MA_1YR_by_bank']\n",
    "dtypes = {'BC_DT':'object','ID_BB_GLOBAL':'object','BANK_NAME':'object','CERT':'object','BB_3M_DEFAULT_PROB':'float64','BB_6M_DEFAULT_PROB':'float64','BB_5Y_DEFAULT_PROB':'float64','REGION':'object','3M_DEF_mean_by_day_x':'float64','6M_DEF_mean_by_day_x':'float64','5Y_DEF_mean_by_day_x':'float64','REG_MEAN_3M':'float64','REG_MEAN_6M':'float64','REG_MEAN_5Y':'float64','REG_MEAN_3M_MA':'float64','REG_MEAN_6M_MA':'float64','REG_MEAN_5Y_MA':'float64','3M_Day_mean_MA':'float64','6M_Day_mean_MA':'float64','5Y_Day_mean_MA':'float64','30D_MA_3M_by_bank':'float64','30D_MA_6M_by_bank':'float64','30D_MA_5YR_by_bank':'float64','26ema_3M_by_bank':'float64','12ema_3M_by_bank':'float64','MACD_3M_by_bank':'float64','26ema_6M_by_bank':'float64','12ema_6M_by_bank':'float64','MACD_6M_by_bank':'float64','26ema_5YR_by_bank':'float64','12ema_5YR_by_bank':'float64','MACD_5YR_by_bank':'float64','26ema_1YR_by_bank':'float64','12ema_1YR_by_bank':'float64','MACD_1YR_by_bank':'float64','BB_RSK_ISSR_W_WATCH':'object','RSK_BB_ISSR_W_WATCH_CHG_DATE':'object','RSK_BB_ISSR_LIKELIHOOD_OF_DFLT':'float64','RSK_BB_IMPLIED_CDS_SPREAD':'float64','BB_RSK_ISSR_W_WATCH_NUM':'float64','RSK_BB_ISSR_DEFAULT_NUM':'float64','1Y_DEF_mean_by_day_x':'float64','REG_MEAN_1Y':'float64','REG_MEAN_1Y_MA':'float64','1Y_Day_mean_MA':'float64','30D_MA_1YR_by_bank':'float64'}\n",
    "pdt =['BC_DT']\n",
    "\n",
    "test = pd.read_csv('data/final_data/DRSK_FINAL_PREP_DATA.csv', sep=',', header=0,parse_dates=pdt,  dtype=dtypes,usecols=cols, encoding = \"ISO-8859-1\" ,low_memory=True )\n",
    "len(test)"
   ]
  },
  {
   "cell_type": "code",
   "execution_count": null,
   "metadata": {},
   "outputs": [],
   "source": []
  }
 ],
 "metadata": {
  "kernelspec": {
   "display_name": "Python 3",
   "language": "python",
   "name": "python3"
  },
  "language_info": {
   "codemirror_mode": {
    "name": "ipython",
    "version": 3
   },
   "file_extension": ".py",
   "mimetype": "text/x-python",
   "name": "python",
   "nbconvert_exporter": "python",
   "pygments_lexer": "ipython3",
   "version": "3.5.5"
  }
 },
 "nbformat": 4,
 "nbformat_minor": 2
}
