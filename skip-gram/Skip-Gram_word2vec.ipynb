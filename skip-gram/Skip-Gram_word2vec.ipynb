{
 "cells": [
  {
   "cell_type": "markdown",
   "metadata": {
    "deletable": true,
    "editable": true
   },
   "source": [
    "# Skip-gram word2vec\n",
    "\n",
    "In this notebook, I'll lead you through using TensorFlow to implement the word2vec algorithm using the skip-gram architecture. By implementing this, you'll learn about embedding words for use in natural language processing. This will come in handy when dealing with things like machine translation.\n",
    "\n",
    "## Readings\n",
    "\n",
    "Here are the resources I used to build this notebook. I suggest reading these either beforehand or while you're working on this material.\n",
    "\n",
    "* A really good [conceptual overview](http://mccormickml.com/2016/04/19/word2vec-tutorial-the-skip-gram-model/) of word2vec from Chris McCormick \n",
    "* [First word2vec paper](https://arxiv.org/pdf/1301.3781.pdf) from Mikolov et al.\n",
    "* [NIPS paper](http://papers.nips.cc/paper/5021-distributed-representations-of-words-and-phrases-and-their-compositionality.pdf) with improvements for word2vec also from Mikolov et al.\n",
    "* An [implementation of word2vec](http://www.thushv.com/natural_language_processing/word2vec-part-1-nlp-with-deep-learning-with-tensorflow-skip-gram/) from Thushan Ganegedara\n",
    "* TensorFlow [word2vec tutorial](https://www.tensorflow.org/tutorials/word2vec)\n",
    "\n",
    "## Word embeddings\n",
    "\n",
    "When you're dealing with words in text, you end up with tens of thousands of classes to predict, one for each word. Trying to one-hot encode these words is massively inefficient, you'll have one element set to 1 and the other 50,000 set to 0. The matrix multiplication going into the first hidden layer will have almost all of the resulting values be zero. This a huge waste of computation. \n",
    "\n",
    "![one-hot encodings](assets/one_hot_encoding.png)\n",
    "\n",
    "To solve this problem and greatly increase the efficiency of our networks, we use what are called embeddings. Embeddings are just a fully connected layer like you've seen before. We call this layer the embedding layer and the weights are embedding weights. We skip the multiplication into the embedding layer by instead directly grabbing the hidden layer values from the weight matrix. We can do this because the multiplication of a one-hot encoded vector with a matrix returns the row of the matrix corresponding the index of the \"on\" input unit.\n",
    "\n",
    "![lookup](assets/lookup_matrix.png)\n",
    "\n",
    "Instead of doing the matrix multiplication, we use the weight matrix as a lookup table. We encode the words as integers, for example \"heart\" is encoded as 958, \"mind\" as 18094. Then to get hidden layer values for \"heart\", you just take the 958th row of the embedding matrix. This process is called an **embedding lookup** and the number of hidden units is the **embedding dimension**.\n",
    "\n",
    "<img src='assets/tokenize_lookup.png' width=500>\n",
    " \n",
    "There is nothing magical going on here. The embedding lookup table is just a weight matrix. The embedding layer is just a hidden layer. The lookup is just a shortcut for the matrix multiplication. The lookup table is trained just like any weight matrix as well.\n",
    "\n",
    "Embeddings aren't only used for words of course. You can use them for any model where you have a massive number of classes. A particular type of model called **Word2Vec** uses the embedding layer to find vector representations of words that contain semantic meaning.\n",
    "\n"
   ]
  },
  {
   "cell_type": "markdown",
   "metadata": {
    "deletable": true,
    "editable": true
   },
   "source": [
    "## Word2Vec\n",
    "\n",
    "The word2vec algorithm finds much more efficient representations by finding vectors that represent the words. These vectors also contain semantic information about the words. Words that show up in similar contexts, such as \"black\", \"white\", and \"red\" will have vectors near each other. There are two architectures for implementing word2vec, CBOW (Continuous Bag-Of-Words) and Skip-gram.\n",
    "\n",
    "<img src=\"assets/word2vec_architectures.png\" width=\"500\">\n",
    "\n",
    "In this implementation, we'll be using the skip-gram architecture because it performs better than CBOW. Here, we pass in a word and try to predict the words surrounding it in the text. In this way, we can train the network to learn representations for words that show up in similar contexts.\n",
    "\n",
    "First up, importing packages."
   ]
  },
  {
   "cell_type": "code",
   "execution_count": 4,
   "metadata": {
    "collapsed": true,
    "deletable": true,
    "editable": true
   },
   "outputs": [],
   "source": [
    "import time\n",
    "\n",
    "import numpy as np\n",
    "import tensorflow as tf\n",
    "\n",
    "import utils"
   ]
  },
  {
   "cell_type": "markdown",
   "metadata": {
    "deletable": true,
    "editable": true
   },
   "source": [
    "Load the [text8 dataset](http://mattmahoney.net/dc/textdata.html), a file of cleaned up Wikipedia articles from Matt Mahoney. The next cell will download the data set to the `data` folder. Then you can extract it and delete the archive file to save storage space."
   ]
  },
  {
   "cell_type": "code",
   "execution_count": 5,
   "metadata": {
    "collapsed": false,
    "deletable": true,
    "editable": true
   },
   "outputs": [],
   "source": [
    "from urllib.request import urlretrieve\n",
    "from os.path import isfile, isdir\n",
    "from tqdm import tqdm\n",
    "import zipfile\n",
    "\n",
    "dataset_folder_path = 'data'\n",
    "dataset_filename = 'text8.zip'\n",
    "dataset_name = 'Text8 Dataset'\n",
    "\n",
    "class DLProgress(tqdm):\n",
    "    last_block = 0\n",
    "\n",
    "    def hook(self, block_num=1, block_size=1, total_size=None):\n",
    "        self.total = total_size\n",
    "        self.update((block_num - self.last_block) * block_size)\n",
    "        self.last_block = block_num\n",
    "\n",
    "if not isfile(dataset_filename):\n",
    "    with DLProgress(unit='B', unit_scale=True, miniters=1, desc=dataset_name) as pbar:\n",
    "        urlretrieve(\n",
    "            'http://mattmahoney.net/dc/text8.zip',\n",
    "            dataset_filename,\n",
    "            pbar.hook)\n",
    "\n",
    "if not isdir(dataset_folder_path):\n",
    "    with zipfile.ZipFile(dataset_filename) as zip_ref:\n",
    "        zip_ref.extractall(dataset_folder_path)\n",
    "        \n",
    "with open('data/text8') as f:\n",
    "    text = f.read()"
   ]
  },
  {
   "cell_type": "code",
   "execution_count": 6,
   "metadata": {
    "collapsed": false,
    "deletable": true,
    "editable": true
   },
   "outputs": [
    {
     "name": "stdout",
     "output_type": "stream",
     "text": [
      " anarchism originated as a term of abuse first used against early working class radicals including t\n"
     ]
    }
   ],
   "source": [
    "print(text[:100])"
   ]
  },
  {
   "cell_type": "code",
   "execution_count": 7,
   "metadata": {
    "collapsed": true,
    "deletable": true,
    "editable": true
   },
   "outputs": [],
   "source": [
    "from collections import Counter\n",
    "def preprocess(text):\n",
    "\n",
    "    # Replace punctuation with tokens so we can use them in our model\n",
    "    text = text.lower()\n",
    "    text = text.replace('.', ' <PERIOD> ')\n",
    "    text = text.replace(',', ' <COMMA> ')\n",
    "    text = text.replace('\"', ' <QUOTATION_MARK> ')\n",
    "    text = text.replace(';', ' <SEMICOLON> ')\n",
    "    text = text.replace('!', ' <EXCLAMATION_MARK> ')\n",
    "    text = text.replace('?', ' <QUESTION_MARK> ')\n",
    "    text = text.replace('(', ' <LEFT_PAREN> ')\n",
    "    text = text.replace(')', ' <RIGHT_PAREN> ')\n",
    "    text = text.replace('--', ' <HYPHENS> ')\n",
    "    text = text.replace('?', ' <QUESTION_MARK> ')\n",
    "    # text = text.replace('\\n', ' <NEW_LINE> ')\n",
    "    text = text.replace(':', ' <COLON> ')\n",
    "    words = text.split()\n",
    "    \n",
    "    # Remove all words with  5 or fewer occurences\n",
    "    word_counts = Counter(words)\n",
    "    trimmed_words = [word for word in words if word_counts[word] > 5]\n",
    "\n",
    "    return trimmed_words"
   ]
  },
  {
   "cell_type": "markdown",
   "metadata": {
    "deletable": true,
    "editable": true
   },
   "source": [
    "## Preprocessing\n",
    "\n",
    "Here I'm fixing up the text to make training easier. This comes from the `utils` module I wrote. The `preprocess` function coverts any punctuation into tokens, so a period is changed to ` <PERIOD> `. In this data set, there aren't any periods, but it will help in other NLP problems. I'm also removing all words that show up five or fewer times in the dataset. This will greatly reduce issues due to noise in the data and improve the quality of the vector representations. If you want to write your own functions for this stuff, go for it."
   ]
  },
  {
   "cell_type": "code",
   "execution_count": 8,
   "metadata": {
    "collapsed": false,
    "deletable": true,
    "editable": true
   },
   "outputs": [
    {
     "name": "stdout",
     "output_type": "stream",
     "text": [
      "['anarchism', 'originated', 'as', 'a', 'term', 'of', 'abuse', 'first', 'used', 'against', 'early', 'working', 'class', 'radicals', 'including', 'the', 'diggers', 'of', 'the', 'english', 'revolution', 'and', 'the', 'sans', 'culottes', 'of', 'the', 'french', 'revolution', 'whilst']\n"
     ]
    }
   ],
   "source": [
    "words = preprocess(text)\n",
    "print(words[:30])"
   ]
  },
  {
   "cell_type": "code",
   "execution_count": 9,
   "metadata": {
    "collapsed": false,
    "deletable": true,
    "editable": true
   },
   "outputs": [
    {
     "name": "stdout",
     "output_type": "stream",
     "text": [
      "Total words: 16680599\n",
      "Unique words: 63641\n"
     ]
    }
   ],
   "source": [
    "print(\"Total words: {}\".format(len(words)))\n",
    "print(\"Unique words: {}\".format(len(set(words))))"
   ]
  },
  {
   "cell_type": "markdown",
   "metadata": {
    "deletable": true,
    "editable": true
   },
   "source": [
    "And here I'm creating dictionaries to convert words to integers and backwards, integers to words. The integers are assigned in descending frequency order, so the most frequent word (\"the\") is given the integer 0 and the next most frequent is 1 and so on. The words are converted to integers and stored in the list `int_words`."
   ]
  },
  {
   "cell_type": "code",
   "execution_count": 10,
   "metadata": {
    "collapsed": true,
    "deletable": true,
    "editable": true
   },
   "outputs": [],
   "source": [
    "def create_lookup_tables(words):\n",
    "    \"\"\"\n",
    "    Create lookup tables for vocabulary\n",
    "    :param words: Input list of words\n",
    "    :return: A tuple of dicts.  The first dict....\n",
    "    \"\"\"\n",
    "    word_counts = Counter(words)\n",
    "    sorted_vocab = sorted(word_counts, key=word_counts.get, reverse=True)\n",
    "    int_to_vocab = {ii: word for ii, word in enumerate(sorted_vocab)}\n",
    "    vocab_to_int = {word: ii for ii, word in int_to_vocab.items()}\n",
    "\n",
    "    return vocab_to_int, int_to_vocab"
   ]
  },
  {
   "cell_type": "code",
   "execution_count": 11,
   "metadata": {
    "collapsed": true,
    "deletable": true,
    "editable": true
   },
   "outputs": [],
   "source": [
    "vocab_to_int, int_to_vocab = create_lookup_tables(words)\n",
    "int_words = [vocab_to_int[word] for word in words]"
   ]
  },
  {
   "cell_type": "code",
   "execution_count": 13,
   "metadata": {
    "collapsed": false,
    "deletable": true,
    "editable": true
   },
   "outputs": [
    {
     "name": "stdout",
     "output_type": "stream",
     "text": [
      "[5233, 3082, 11, 5, 194, 1, 3136, 45, 58, 155]\n",
      "anarchism\n",
      "originated\n",
      "as\n",
      "a\n",
      "term\n",
      "of\n",
      "abuse\n",
      "first\n",
      "used\n",
      "against\n"
     ]
    }
   ],
   "source": [
    "print(int_words[:10])\n",
    "for i,j in enumerate(int_words[:10]): \n",
    " print(int_to_vocab[j])\n",
    " #print(j)\n",
    " #if i==10 :\n",
    " #   break"
   ]
  },
  {
   "cell_type": "markdown",
   "metadata": {
    "deletable": true,
    "editable": true
   },
   "source": [
    "## Subsampling\n",
    "\n",
    "Words that show up often such as \"the\", \"of\", and \"for\" don't provide much context to the nearby words. If we discard some of them, we can remove some of the noise from our data and in return get faster training and better representations. This process is called subsampling by Mikolov. For each word $w_i$ in the training set, we'll discard it with probability given by \n",
    "\n",
    "$$ P(w_i) = 1 - \\sqrt{\\frac{t}{f(w_i)}} $$\n",
    "\n",
    "where $t$ is a threshold parameter and $f(w_i)$ is the frequency of word $w_i$ in the total dataset.\n",
    "\n",
    "I'm going to leave this up to you as an exercise. This is more of a programming challenge, than about deep learning specifically. But, being able to prepare your data for your network is an important skill to have. Check out my solution to see how I did it.\n",
    "\n",
    "> **Exercise:** Implement subsampling for the words in `int_words`. That is, go through `int_words` and discard each word given the probablility $P(w_i)$ shown above. Note that $P(w_i)$ is the probability that a word is discarded. Assign the subsampled data to `train_words`."
   ]
  },
  {
   "cell_type": "code",
   "execution_count": 14,
   "metadata": {
    "collapsed": false,
    "deletable": true,
    "editable": true
   },
   "outputs": [
    {
     "name": "stdout",
     "output_type": "stream",
     "text": [
      "1061396 16680599 Freq of 0 = 0.06363056866243233\n",
      "0 : 1061396\n",
      "1 : 593677\n",
      "2 : 416629\n",
      "Feq : 0.06363056866243233 of word  0\n"
     ]
    }
   ],
   "source": [
    "## Your code here\n",
    "from collections import Counter\n",
    "import random\n",
    "word_counts = Counter(int_words)\n",
    "total_count = len(int_words)\n",
    "print(word_counts[0],total_count,\"Freq of 0 =\",word_counts[0]/total_count)\n",
    "for word, count in word_counts.items():\n",
    "  print(word,\":\",count)\n",
    "  if word ==2 :\n",
    "   break\n",
    "freq = {word:count/total_count for word, count in word_counts.items()}\n",
    "for word in word_counts:\n",
    "    print(\"Feq :\",freq[word],\"of word \",word)\n",
    "    break\n",
    "threshold = 1e-5\n",
    "prob_drop ={word: 1 - np.sqrt(threshold/freq[word]) for word in word_counts}\n",
    "train_words = [word for word in int_words if random.random() < (1 - prob_drop[word])]# The final subsampled word list"
   ]
  },
  {
   "cell_type": "markdown",
   "metadata": {
    "deletable": true,
    "editable": true
   },
   "source": [
    "## Making batches"
   ]
  },
  {
   "cell_type": "code",
   "execution_count": 15,
   "metadata": {
    "collapsed": false,
    "deletable": true,
    "editable": true
   },
   "outputs": [
    {
     "name": "stdout",
     "output_type": "stream",
     "text": [
      "4626995 5233\n"
     ]
    }
   ],
   "source": [
    "print(len(train_words),train_words[0])"
   ]
  },
  {
   "cell_type": "markdown",
   "metadata": {
    "deletable": true,
    "editable": true
   },
   "source": [
    "Now that our data is in good shape, we need to get it into the proper form to pass it into our network. With the skip-gram architecture, for each word in the text, we want to grab all the words in a window around that word, with size $C$. \n",
    "\n",
    "From [Mikolov et al.](https://arxiv.org/pdf/1301.3781.pdf): \n",
    "\n",
    "\"Since the more distant words are usually less related to the current word than those close to it, we give less weight to the distant words by sampling less from those words in our training examples... If we choose $C = 5$, for each training word we will select randomly a number $R$ in range $< 1; C >$, and then use $R$ words from history and $R$ words from the future of the current word as correct labels.\"\n",
    "\n",
    "> **Exercise:** Implement a function `get_target` that receives a list of words, an index, and a window size, then returns a list of words in the window around the index. Make sure to use the algorithm described above, where you choose a random number of words from the window."
   ]
  },
  {
   "cell_type": "code",
   "execution_count": 16,
   "metadata": {
    "collapsed": true,
    "deletable": true,
    "editable": true
   },
   "outputs": [],
   "source": [
    "def get_target(words, idx, window_size=5):\n",
    "    ''' Get a list of words in a window around an index. '''\n",
    "    \n",
    "    # Your code here\n",
    "    R = np.random.randint(1,window_size +1 )\n",
    "    start = idx - R if (idx -R)> 0 else 0\n",
    "    stop = idx + R\n",
    "    target_words = set(words[start : idx] + words[idx+1:stop+1])\n",
    "    return list(target_words)"
   ]
  },
  {
   "cell_type": "markdown",
   "metadata": {
    "deletable": true,
    "editable": true
   },
   "source": [
    "Here's a function that returns batches for our network. The idea is that it grabs `batch_size` words from a words list. Then for each of those words, it gets the target words in the window. I haven't found a way to pass in a random number of target words and get it to work with the architecture, so I make one row per input-target pair. This is a generator function by the way, helps save memory."
   ]
  },
  {
   "cell_type": "code",
   "execution_count": 17,
   "metadata": {
    "collapsed": true,
    "deletable": true,
    "editable": true
   },
   "outputs": [],
   "source": [
    "def get_batches(words, batch_size, window_size=5):\n",
    "    ''' Create a generator of word batches as a tuple (inputs, targets) '''\n",
    "    \n",
    "    n_batches = len(words)//batch_size\n",
    "    \n",
    "    # only full batches\n",
    "    words = words[:n_batches*batch_size]\n",
    "    \n",
    "    for idx in range(0, len(words), batch_size):\n",
    "        x, y = [], []\n",
    "        batch = words[idx:idx+batch_size]\n",
    "        for ii in range(len(batch)):\n",
    "            batch_x = batch[ii]\n",
    "            batch_y = get_target(batch, ii, window_size)\n",
    "            y.extend(batch_y)\n",
    "            x.extend([batch_x]*len(batch_y))\n",
    "        yield x, y\n",
    "    "
   ]
  },
  {
   "cell_type": "markdown",
   "metadata": {
    "deletable": true,
    "editable": true
   },
   "source": [
    "## Building the graph\n",
    "\n",
    "From [Chris McCormick's blog](http://mccormickml.com/2016/04/19/word2vec-tutorial-the-skip-gram-model/), we can see the general structure of our network.\n",
    "![embedding_network](./assets/skip_gram_net_arch.png)\n",
    "\n",
    "The input words are passed in as integers. This will go into a hidden layer of linear units, then into a softmax layer. We'll use the softmax layer to make a prediction like normal.\n",
    "\n",
    "The idea here is to train the hidden layer weight matrix to find efficient representations for our words. We can discard the softmax layer becuase we don't really care about making predictions with this network. We just want the embedding matrix so we can use it in other networks we build from the dataset.\n",
    "\n",
    "I'm going to have you build the graph in stages now. First off, creating the `inputs` and `labels` placeholders like normal.\n",
    "\n",
    "> **Exercise:** Assign `inputs` and `labels` using `tf.placeholder`. We're going to be passing in integers, so set the data types to `tf.int32`. The batches we're passing in will have varying sizes, so set the batch sizes to [`None`]. To make things work later, you'll need to set the second dimension of `labels` to `None` or `1`."
   ]
  },
  {
   "cell_type": "code",
   "execution_count": 18,
   "metadata": {
    "collapsed": true,
    "deletable": true,
    "editable": true
   },
   "outputs": [],
   "source": [
    "train_graph = tf.Graph()\n",
    "with train_graph.as_default():\n",
    "    inputs = tf.placeholder(tf.int32,[None],name='inputs')\n",
    "    labels = tf.placeholder(tf.int32, [None,None], name='labels')"
   ]
  },
  {
   "cell_type": "markdown",
   "metadata": {
    "deletable": true,
    "editable": true
   },
   "source": [
    "## Embedding\n",
    "\n"
   ]
  },
  {
   "cell_type": "markdown",
   "metadata": {
    "collapsed": true,
    "deletable": true,
    "editable": true
   },
   "source": [
    "The embedding matrix has a size of the number of words by the number of units in the hidden layer. So, if you have 10,000 words and 300 hidden units, the matrix will have size $10,000 \\times 300$. Remember that we're using tokenized data for our inputs, usually as integers, where the number of tokens is the number of words in our vocabulary.\n",
    "\n",
    "\n",
    "> **Exercise:** Tensorflow provides a convenient function [`tf.nn.embedding_lookup`](https://www.tensorflow.org/api_docs/python/tf/nn/embedding_lookup) that does this lookup for us. You pass in the embedding matrix and a tensor of integers, then it returns rows in the matrix corresponding to those integers. Below, set the number of embedding features you'll use (200 is a good start), create the embedding matrix variable, and use `tf.nn.embedding_lookup` to get the embedding tensors. For the embedding matrix, I suggest you initialize it with a uniform random numbers between -1 and 1 using [tf.random_uniform](https://www.tensorflow.org/api_docs/python/tf/random_uniform)."
   ]
  },
  {
   "cell_type": "code",
   "execution_count": 19,
   "metadata": {
    "collapsed": true,
    "deletable": true,
    "editable": true
   },
   "outputs": [],
   "source": [
    "n_vocab = len(int_to_vocab)\n",
    "n_embedding = 200 # Number of embedding features \n",
    "with train_graph.as_default():\n",
    "    embedding = tf.Variable(tf.random_uniform((n_vocab, n_embedding), -1, 1))# create embedding weight matrix here\n",
    "    embed = tf.nn.embedding_lookup(embedding, inputs)# use tf.nn.embedding_lookup to get the hidden layer output"
   ]
  },
  {
   "cell_type": "markdown",
   "metadata": {
    "deletable": true,
    "editable": true
   },
   "source": [
    "## Negative sampling\n",
    "\n"
   ]
  },
  {
   "cell_type": "markdown",
   "metadata": {
    "deletable": true,
    "editable": true
   },
   "source": [
    "For every example we give the network, we train it using the output from the softmax layer. That means for each input, we're making very small changes to millions of weights even though we only have one true example. This makes training the network very inefficient. We can approximate the loss from the softmax layer by only updating a small subset of all the weights at once. We'll update the weights for the correct label, but only a small number of incorrect labels. This is called [\"negative sampling\"](http://papers.nips.cc/paper/5021-distributed-representations-of-words-and-phrases-and-their-compositionality.pdf). Tensorflow has a convenient function to do this, [`tf.nn.sampled_softmax_loss`](https://www.tensorflow.org/api_docs/python/tf/nn/sampled_softmax_loss).\n",
    "\n",
    "> **Exercise:** Below, create weights and biases for the softmax layer. Then, use [`tf.nn.sampled_softmax_loss`](https://www.tensorflow.org/api_docs/python/tf/nn/sampled_softmax_loss) to calculate the loss. Be sure to read the documentation to figure out how it works."
   ]
  },
  {
   "cell_type": "code",
   "execution_count": 23,
   "metadata": {
    "collapsed": false,
    "deletable": true,
    "editable": true
   },
   "outputs": [
    {
     "name": "stdout",
     "output_type": "stream",
     "text": [
      "WARNING:tensorflow:From C:\\Anaconda3\\envs\\aind-dl\\lib\\site-packages\\tensorflow\\python\\ops\\nn_impl.py:1307: softmax_cross_entropy_with_logits (from tensorflow.python.ops.nn_ops) is deprecated and will be removed in a future version.\n",
      "Instructions for updating:\n",
      "\n",
      "Future major versions of TensorFlow will allow gradients to flow\n",
      "into the labels input on backprop by default.\n",
      "\n",
      "See tf.nn.softmax_cross_entropy_with_logits_v2.\n",
      "\n"
     ]
    }
   ],
   "source": [
    "# Number of negative labels to sample\n",
    "n_sampled = 100\n",
    "with train_graph.as_default():\n",
    "    softmax_w = tf.Variable(tf.truncated_normal((n_vocab, n_embedding), stddev=0.1))# create softmax weight matrix here\n",
    "    softmax_b = tf.Variable(tf.zeros(n_vocab)) # create softmax biases here\n",
    "    \n",
    "    # Calculate the loss using negative sampling\n",
    "    loss = tf.nn.sampled_softmax_loss(softmax_w, softmax_b, \n",
    "                                      labels, embed,\n",
    "                                      n_sampled, n_vocab) \n",
    "    \n",
    "    cost = tf.reduce_mean(loss)\n",
    "    optimizer = tf.train.AdamOptimizer().minimize(cost)"
   ]
  },
  {
   "cell_type": "markdown",
   "metadata": {
    "deletable": true,
    "editable": true
   },
   "source": [
    "## Validation\n",
    "\n",
    "This code is from Thushan Ganegedara's implementation. Here we're going to choose a few common words and few uncommon words. Then, we'll print out the closest words to them. It's a nice way to check that our embedding table is grouping together words with similar semantic meanings."
   ]
  },
  {
   "cell_type": "code",
   "execution_count": 24,
   "metadata": {
    "collapsed": false,
    "deletable": true,
    "editable": true
   },
   "outputs": [],
   "source": [
    "with train_graph.as_default():\n",
    "    ## From Thushan Ganegedara's implementation\n",
    "    valid_size = 16 # Random set of words to evaluate similarity on.\n",
    "    valid_window = 100\n",
    "    # pick 8 samples from (0,100) and (1000,1100) each ranges. lower id implies more frequent \n",
    "    valid_examples = np.array(random.sample(range(valid_window), valid_size//2))\n",
    "    valid_examples = np.append(valid_examples, \n",
    "                               random.sample(range(1000,1000+valid_window), valid_size//2))\n",
    "\n",
    "    valid_dataset = tf.constant(valid_examples, dtype=tf.int32)\n",
    "    \n",
    "    # We use the cosine distance:\n",
    "    norm = tf.sqrt(tf.reduce_sum(tf.square(embedding), 1, keep_dims=True))\n",
    "    normalized_embedding = embedding / norm\n",
    "    valid_embedding = tf.nn.embedding_lookup(normalized_embedding, valid_dataset)\n",
    "    similarity = tf.matmul(valid_embedding, tf.transpose(normalized_embedding))"
   ]
  },
  {
   "cell_type": "code",
   "execution_count": 21,
   "metadata": {
    "collapsed": false,
    "deletable": true,
    "editable": true
   },
   "outputs": [
    {
     "name": "stderr",
     "output_type": "stream",
     "text": [
      "A subdirectory or file checkpoints already exists.\n"
     ]
    }
   ],
   "source": [
    "# If the checkpoints directory doesn't exist:\n",
    "!mkdir checkpoints"
   ]
  },
  {
   "cell_type": "markdown",
   "metadata": {
    "deletable": true,
    "editable": true
   },
   "source": [
    "## Training\n",
    "\n",
    "Below is the code to train the network. Every 100 batches it reports the training loss. Every 1000 batches, it'll print out the validation words."
   ]
  },
  {
   "cell_type": "code",
   "execution_count": 25,
   "metadata": {
    "collapsed": false,
    "deletable": true,
    "editable": true
   },
   "outputs": [
    {
     "name": "stdout",
     "output_type": "stream",
     "text": [
      "Epoch 1/2 Iteration: 100 Avg. Training loss: 5.6864 0.2841 sec/batch\n",
      "Epoch 1/2 Iteration: 200 Avg. Training loss: 5.6194 0.2833 sec/batch\n",
      "Epoch 1/2 Iteration: 300 Avg. Training loss: 5.5987 0.2852 sec/batch\n",
      "Epoch 1/2 Iteration: 400 Avg. Training loss: 5.5812 0.2868 sec/batch\n",
      "Epoch 1/2 Iteration: 500 Avg. Training loss: 5.5046 0.2833 sec/batch\n",
      "Epoch 1/2 Iteration: 600 Avg. Training loss: 5.4738 0.2856 sec/batch\n",
      "Epoch 1/2 Iteration: 700 Avg. Training loss: 5.5545 0.2860 sec/batch\n",
      "Epoch 1/2 Iteration: 800 Avg. Training loss: 5.6010 0.2845 sec/batch\n",
      "Epoch 1/2 Iteration: 900 Avg. Training loss: 5.5004 0.2861 sec/batch\n",
      "Epoch 1/2 Iteration: 1000 Avg. Training loss: 5.4207 0.2883 sec/batch\n",
      "Nearest to american: optimization, mongols, ranks, falk, undifferentiated, crocker, binoculars, greenman,\n",
      "Nearest to have: cheek, financi, phase, sacrifices, genesis, reasoned, glycoproteins, bottlers,\n",
      "Nearest to all: troth, weblogs, intersex, khazars, towers, symbology, edomites, rabble,\n",
      "Nearest to in: hurley, amoeba, cathars, yehoshua, imprecise, guiscard, opium, hydrography,\n",
      "Nearest to that: adventurer, gradus, kissaki, individuals, campus, gorge, caucus, landtag,\n",
      "Nearest to years: trichechus, handlers, trajan, loomis, gorges, welch, jt, talmuds,\n",
      "Nearest to th: preparing, contraindicated, vikram, myelogenous, fortified, amoeba, rer, heritable,\n",
      "Nearest to many: asia, efficacy, shipped, pollutant, dreadnought, angry, alternative, za,\n",
      "Nearest to road: hypoxia, jasper, viscount, sram, mcgee, registration, cadillacs, ghq,\n",
      "Nearest to pre: rounder, ghali, nonstop, timer, signaling, astroturf, edmond, secker,\n",
      "Nearest to applied: odorless, flyby, disavow, christ, folksong, priestess, bayezid, pittori,\n",
      "Nearest to resources: tattooed, totaling, kenjutsu, busts, jehovah, allemande, engraved, alumni,\n",
      "Nearest to except: delgado, hyphae, desperately, lance, aris, hastened, thrax, wadsworth,\n",
      "Nearest to san: fission, hellmuth, holdover, madox, mutineers, pack, poppies, gracious,\n",
      "Nearest to construction: mandriva, boulton, shivering, riel, ethereal, equals, outset, sexist,\n",
      "Nearest to liberal: trustee, guillotined, xmm, relentless, bureaucratic, horst, apa, services,\n",
      "Epoch 1/2 Iteration: 1100 Avg. Training loss: 5.5038 0.2939 sec/batch\n",
      "Epoch 1/2 Iteration: 1200 Avg. Training loss: 5.4575 0.2895 sec/batch\n",
      "Epoch 1/2 Iteration: 1300 Avg. Training loss: 5.4686 0.2899 sec/batch\n",
      "Epoch 1/2 Iteration: 1400 Avg. Training loss: 5.4570 0.2885 sec/batch\n",
      "Epoch 1/2 Iteration: 1500 Avg. Training loss: 5.4603 0.2880 sec/batch\n",
      "Epoch 1/2 Iteration: 1600 Avg. Training loss: 5.4100 0.2880 sec/batch\n",
      "Epoch 1/2 Iteration: 1700 Avg. Training loss: 5.3403 0.2877 sec/batch\n",
      "Epoch 1/2 Iteration: 1800 Avg. Training loss: 5.2786 0.2872 sec/batch\n",
      "Epoch 1/2 Iteration: 1900 Avg. Training loss: 5.2473 0.2874 sec/batch\n",
      "Epoch 1/2 Iteration: 2000 Avg. Training loss: 5.2218 0.2876 sec/batch\n",
      "Nearest to american: optimization, ranks, mongols, sir, falk, greenman, undifferentiated, binoculars,\n",
      "Nearest to have: bayonet, genesis, reasoned, full, ashton, register, hagerstown, marketing,\n",
      "Nearest to all: troth, personally, zip, moderators, towers, newmarket, duckman, khazars,\n",
      "Nearest to in: hurley, imprecise, amoeba, troubles, cities, and, biomolecules, condition,\n",
      "Nearest to that: individuals, adventurer, campus, salary, gradus, gorge, damaged, hit,\n",
      "Nearest to years: trajan, neglected, trichechus, jt, five, horizontal, you, handlers,\n",
      "Nearest to th: preparing, and, fortified, contraindicated, amoeba, harem, maru, vikram,\n",
      "Nearest to many: asia, shipped, efficacy, alternative, dreadnought, seeing, angry, pollutant,\n",
      "Nearest to road: hypoxia, albeit, viscount, beneath, jasper, sram, neglected, mcgee,\n",
      "Nearest to pre: rounder, astroturf, signaling, elements, than, nonstop, hindemith, supplements,\n",
      "Nearest to applied: folksong, christ, strangled, odorless, priestess, stanzas, denial, guppies,\n",
      "Nearest to resources: jehovah, totaling, reflected, busts, tattooed, alumni, kenjutsu, engraved,\n",
      "Nearest to except: lance, quadrant, delgado, servitude, affray, desperately, tactic, conflicts,\n",
      "Nearest to san: fission, hellmuth, mutineers, madox, holdover, pack, gracious, poppies,\n",
      "Nearest to construction: mandriva, shivering, outset, ethereal, boulton, sexist, stabilizer, equals,\n",
      "Nearest to liberal: trustee, aware, xmm, services, horst, bureaucratic, apa, dismounted,\n",
      "Epoch 1/2 Iteration: 2100 Avg. Training loss: 5.2404 0.2940 sec/batch\n",
      "Epoch 1/2 Iteration: 2200 Avg. Training loss: 5.2029 0.2891 sec/batch\n",
      "Epoch 1/2 Iteration: 2300 Avg. Training loss: 5.0717 0.2896 sec/batch\n",
      "Epoch 1/2 Iteration: 2400 Avg. Training loss: 5.0691 0.2871 sec/batch\n",
      "Epoch 1/2 Iteration: 2500 Avg. Training loss: 5.0232 0.2889 sec/batch\n",
      "Epoch 1/2 Iteration: 2600 Avg. Training loss: 5.0091 0.2900 sec/batch\n",
      "Epoch 1/2 Iteration: 2700 Avg. Training loss: 4.9939 0.2872 sec/batch\n",
      "Epoch 1/2 Iteration: 2800 Avg. Training loss: 4.9297 0.2881 sec/batch\n",
      "Epoch 1/2 Iteration: 2900 Avg. Training loss: 4.9210 0.2871 sec/batch\n",
      "Epoch 1/2 Iteration: 3000 Avg. Training loss: 4.8917 0.2885 sec/batch\n",
      "Nearest to american: optimization, ranks, mongols, sir, regardless, dedicated, falk, greenman,\n",
      "Nearest to have: phase, marketing, genesis, reasoned, bayonet, garrison, convicted, cheek,\n",
      "Nearest to all: towers, personally, troth, zip, householder, specifying, newmarket, intractable,\n",
      "Nearest to in: imprecise, cities, condition, hurley, william, troubles, wide, amoeba,\n",
      "Nearest to that: individuals, campus, entitled, difficulty, adventurer, entertainment, vegetarian, ruler,\n",
      "Nearest to years: gorges, trajan, neglected, five, horizontal, council, loomis, women,\n",
      "Nearest to th: preparing, fortified, and, contraindicated, amoeba, maru, position, harem,\n",
      "Nearest to many: asia, shipped, alternative, seeing, efficacy, angry, defensive, pollutant,\n",
      "Nearest to road: albeit, beneath, hayek, hypoxia, registration, neglected, jasper, chambers,\n",
      "Nearest to pre: elements, than, rounder, astroturf, supplements, should, procyon, tourism,\n",
      "Nearest to applied: christ, odorless, strangled, denial, folksong, moors, sterling, stanzas,\n",
      "Nearest to resources: totaling, reflected, jehovah, alumni, greater, distinction, cement, engraved,\n",
      "Nearest to except: lance, quadrant, presence, conflicts, servitude, tactic, tesco, affray,\n",
      "Nearest to san: fission, hellmuth, intervention, youth, mutineers, pack, durio, gallows,\n",
      "Nearest to construction: mandriva, shivering, outset, vat, stabilizer, crowd, ethereal, cool,\n",
      "Nearest to liberal: services, trustee, aware, bureaucratic, horst, mutual, sentiment, famicom,\n",
      "Epoch 1/2 Iteration: 3100 Avg. Training loss: 4.8932 0.2938 sec/batch\n",
      "Epoch 1/2 Iteration: 3200 Avg. Training loss: 4.8563 0.2889 sec/batch\n",
      "Epoch 1/2 Iteration: 3300 Avg. Training loss: 4.8543 0.2888 sec/batch\n",
      "Epoch 1/2 Iteration: 3400 Avg. Training loss: 4.8450 0.2885 sec/batch\n",
      "Epoch 1/2 Iteration: 3500 Avg. Training loss: 4.8517 0.2893 sec/batch\n",
      "Epoch 1/2 Iteration: 3600 Avg. Training loss: 4.8439 0.2879 sec/batch\n",
      "Epoch 1/2 Iteration: 3700 Avg. Training loss: 4.7847 0.2875 sec/batch\n",
      "Epoch 1/2 Iteration: 3800 Avg. Training loss: 4.7961 0.2890 sec/batch\n",
      "Epoch 1/2 Iteration: 3900 Avg. Training loss: 4.7822 0.2893 sec/batch\n",
      "Epoch 1/2 Iteration: 4000 Avg. Training loss: 4.7780 0.2899 sec/batch\n",
      "Nearest to american: optimization, ranks, sir, dedicated, mongols, falk, undifferentiated, cup,\n",
      "Nearest to have: phase, cheek, sacrifices, marketing, genesis, reasoned, bayonet, convicted,\n",
      "Nearest to all: towers, specifying, personally, zip, philosophers, householder, troth, custody,\n",
      "Nearest to in: imprecise, condition, cities, wide, contexts, troubles, william, amoeba,\n",
      "Nearest to that: entitled, difficulty, individuals, entertainment, campus, adventurer, caucus, vegetarian,\n",
      "Nearest to years: gorges, trajan, five, overdose, horizontal, loomis, neglected, trichechus,\n",
      "Nearest to th: preparing, fortified, and, contraindicated, myelogenous, harem, amoeba, rer,\n",
      "Nearest to many: asia, alternative, seeing, shipped, efficacy, defensive, dreadnought, sequences,\n",
      "Nearest to road: registration, beneath, viscount, hayek, importantly, jasper, hypoxia, albeit,\n",
      "Nearest to pre: signaling, rounder, than, elements, astroturf, hindemith, volcanic, nonstop,\n",
      "Nearest to applied: christ, odorless, folksong, strangled, denial, moors, priestess, unorthodox,\n",
      "Nearest to resources: reflected, totaling, jehovah, alumni, cement, busts, distinction, engraved,\n",
      "Nearest to except: quadrant, conflicts, lance, presence, servitude, tactic, cool, hastened,\n",
      "Nearest to san: fission, pack, hellmuth, mutineers, intervention, durio, castle, madox,\n",
      "Nearest to construction: mandriva, shivering, equals, crowd, cool, outset, rift, stabilizer,\n",
      "Nearest to liberal: services, trustee, bureaucratic, aware, horst, mutual, sentiment, isaac,\n",
      "Epoch 1/2 Iteration: 4100 Avg. Training loss: 4.7705 0.2990 sec/batch\n",
      "Epoch 1/2 Iteration: 4200 Avg. Training loss: 4.7104 0.2889 sec/batch\n",
      "Epoch 1/2 Iteration: 4300 Avg. Training loss: 4.7374 0.2888 sec/batch\n",
      "Epoch 1/2 Iteration: 4400 Avg. Training loss: 4.7121 0.2908 sec/batch\n",
      "Epoch 1/2 Iteration: 4500 Avg. Training loss: 4.7241 0.2881 sec/batch\n",
      "Epoch 1/2 Iteration: 4600 Avg. Training loss: 4.7234 0.2886 sec/batch\n",
      "Epoch 1/2 Iteration: 4700 Avg. Training loss: 4.7041 0.2882 sec/batch\n",
      "Epoch 1/2 Iteration: 4800 Avg. Training loss: 4.6998 0.2895 sec/batch\n",
      "Epoch 1/2 Iteration: 4900 Avg. Training loss: 4.7084 0.2879 sec/batch\n",
      "Epoch 1/2 Iteration: 5000 Avg. Training loss: 4.6474 0.2867 sec/batch\n",
      "Nearest to american: sir, actor, optimization, born, ranks, dedicated, comedy, cup,\n",
      "Nearest to have: sacrifices, cheek, phase, apostolic, allowing, renting, terming, marketing,\n",
      "Nearest to all: towers, troth, personally, zip, reworked, copland, newmarket, specifying,\n",
      "Nearest to in: imprecise, wide, cities, condition, federated, cathars, hurley, preferences,\n",
      "Nearest to that: difficulty, entitled, individuals, caucus, vegetarian, put, entertainment, urged,\n",
      "Nearest to years: five, gorges, overdose, trajan, loomis, presume, xavier, thirty,\n",
      "Nearest to th: preparing, fortified, and, rer, century, harem, myelogenous, petitioning,\n",
      "Nearest to many: alternative, asia, sequences, defensive, efficacy, shipped, seeing, za,\n",
      "Nearest to road: registration, viscount, jasper, sram, importantly, chambers, hayek, football,\n",
      "Nearest to pre: signaling, rounder, oskar, astroturf, elements, hindemith, than, ghali,\n",
      "Nearest to applied: folksong, christ, odorless, strangled, denial, moors, priestess, disavow,\n",
      "Nearest to resources: jehovah, reflected, totaling, appreciation, cement, engraved, suppressing, greater,\n",
      "Nearest to except: quadrant, conflicts, lance, delgado, tactic, servitude, desperately, hastened,\n",
      "Nearest to san: fission, pack, hellmuth, madox, holdover, castle, durio, prefectures,\n",
      "Nearest to construction: mandriva, outset, shivering, crowd, cool, equals, sexist, forall,\n",
      "Nearest to liberal: trustee, services, bureaucratic, horst, xmm, isaac, sentiment, aware,\n",
      "Epoch 1/2 Iteration: 5100 Avg. Training loss: 4.6681 0.2944 sec/batch\n",
      "Epoch 1/2 Iteration: 5200 Avg. Training loss: 4.6777 0.2891 sec/batch\n",
      "Epoch 1/2 Iteration: 5300 Avg. Training loss: 4.6244 0.2891 sec/batch\n",
      "Epoch 1/2 Iteration: 5400 Avg. Training loss: 4.6545 0.2882 sec/batch\n",
      "Epoch 1/2 Iteration: 5500 Avg. Training loss: 4.6559 0.2887 sec/batch\n",
      "Epoch 1/2 Iteration: 5600 Avg. Training loss: 4.6779 0.2886 sec/batch\n",
      "Epoch 1/2 Iteration: 5700 Avg. Training loss: 4.6507 0.2875 sec/batch\n",
      "Epoch 1/2 Iteration: 5800 Avg. Training loss: 4.6252 0.2895 sec/batch\n",
      "Epoch 1/2 Iteration: 5900 Avg. Training loss: 4.6558 0.2891 sec/batch\n",
      "Epoch 1/2 Iteration: 6000 Avg. Training loss: 4.6300 0.2881 sec/batch\n",
      "Nearest to american: sir, actor, optimization, mongols, born, comedy, ranks, dedicated,\n",
      "Nearest to have: sacrifices, cheek, confessed, apostolic, allowing, zagreb, phase, genesis,\n",
      "Nearest to all: troth, towers, personally, zip, reworked, newmarket, householder, moderators,\n",
      "Nearest to in: imprecise, wide, federated, cities, condition, and, cathars, hurley,\n",
      "Nearest to that: entitled, caucus, difficulty, individuals, culpability, put, surpass, undue,\n",
      "Nearest to years: five, overdose, gorges, trajan, thirty, banned, loomis, repents,\n",
      "Nearest to th: preparing, century, fortified, harem, rer, and, auld, myelogenous,\n",
      "Nearest to many: alternative, asia, sequences, efficacy, shipped, defensive, seeing, athena,\n",
      "Nearest to road: registration, viscount, chambers, importantly, hayek, jasper, hypoxia, sram,\n",
      "Nearest to pre: signaling, oskar, rounder, edmond, outlawed, nonstop, ghali, than,\n",
      "Nearest to applied: odorless, christ, denial, strangled, folksong, moors, priestess, disavow,\n",
      "Nearest to resources: reflected, totaling, jehovah, cement, suppressing, appreciation, haydn, alumni,\n",
      "Nearest to except: quadrant, conflicts, tactic, desperately, hastened, delgado, inversely, lance,\n",
      "Nearest to san: madox, fission, pack, holdover, hellmuth, castle, prefectures, festival,\n",
      "Nearest to construction: mandriva, outset, cool, shivering, crowd, sexist, forall, desirability,\n",
      "Nearest to liberal: trustee, bureaucratic, services, horst, xmm, dismounted, isaac, prime,\n",
      "Epoch 1/2 Iteration: 6100 Avg. Training loss: 4.6216 0.2950 sec/batch\n",
      "Epoch 1/2 Iteration: 6200 Avg. Training loss: 4.6223 0.2898 sec/batch\n",
      "Epoch 1/2 Iteration: 6300 Avg. Training loss: 4.6071 0.2872 sec/batch\n",
      "Epoch 1/2 Iteration: 6400 Avg. Training loss: 4.6138 0.2883 sec/batch\n",
      "Epoch 1/2 Iteration: 6500 Avg. Training loss: 4.5489 0.2882 sec/batch\n",
      "Epoch 1/2 Iteration: 6600 Avg. Training loss: 4.5532 0.2871 sec/batch\n",
      "Epoch 1/2 Iteration: 6700 Avg. Training loss: 4.5557 0.2872 sec/batch\n",
      "Epoch 1/2 Iteration: 6800 Avg. Training loss: 4.5502 0.2882 sec/batch\n",
      "Epoch 1/2 Iteration: 6900 Avg. Training loss: 4.5789 0.2894 sec/batch\n",
      "Epoch 1/2 Iteration: 7000 Avg. Training loss: 4.5380 0.2897 sec/batch\n",
      "Nearest to american: actor, sir, born, composer, singer, comedy, actress, georges,\n",
      "Nearest to have: sacrifices, cheek, allowing, renting, or, confessed, apostolic, exceptions,\n",
      "Nearest to all: troth, towers, regard, reworked, zip, moderators, intersex, illustrative,\n",
      "Nearest to in: cities, federated, and, wide, cathars, imprecise, hurley, lasts,\n",
      "Nearest to that: difficulty, individuals, entitled, culpability, caucus, surpass, put, decrypted,\n",
      "Nearest to years: five, gorges, overdose, banned, thirty, repents, loomis, trajan,\n",
      "Nearest to th: century, preparing, fortified, rer, and, auld, leap, harem,\n",
      "Nearest to many: alternative, asia, efficacy, sequences, shipped, athena, rifting, defensive,\n",
      "Nearest to road: viscount, chambers, jasper, hypoxia, registration, hayek, indies, sram,\n",
      "Nearest to pre: signaling, oskar, rounder, outlawed, nonstop, edmond, ghali, ethnic,\n",
      "Nearest to applied: odorless, denial, priestess, folksong, strangled, christ, institutionalized, moors,\n",
      "Nearest to resources: reflected, totaling, greater, jehovah, cement, permanent, haydn, distort,\n",
      "Nearest to except: quadrant, conflicts, delgado, hidalgo, kirkpatrick, servitude, hastened, presence,\n",
      "Nearest to san: madox, fission, holdover, hellmuth, pack, prefectures, durio, festival,\n",
      "Nearest to construction: mandriva, outset, shivering, cool, boulton, sexist, crowd, rift,\n",
      "Nearest to liberal: trustee, bureaucratic, services, horst, dismounted, prime, xmm, guillotined,\n",
      "Epoch 1/2 Iteration: 7100 Avg. Training loss: 4.5490 0.2951 sec/batch\n",
      "Epoch 1/2 Iteration: 7200 Avg. Training loss: 4.5042 0.2889 sec/batch\n",
      "Epoch 1/2 Iteration: 7300 Avg. Training loss: 4.5561 0.2888 sec/batch\n",
      "Epoch 1/2 Iteration: 7400 Avg. Training loss: 4.5597 0.2892 sec/batch\n",
      "Epoch 1/2 Iteration: 7500 Avg. Training loss: 4.5736 0.2883 sec/batch\n",
      "Epoch 1/2 Iteration: 7600 Avg. Training loss: 4.5909 0.2882 sec/batch\n",
      "Epoch 1/2 Iteration: 7700 Avg. Training loss: 4.5669 0.2897 sec/batch\n",
      "Epoch 1/2 Iteration: 7800 Avg. Training loss: 4.5175 0.2874 sec/batch\n",
      "Epoch 1/2 Iteration: 7900 Avg. Training loss: 4.4534 0.2883 sec/batch\n",
      "Epoch 1/2 Iteration: 8000 Avg. Training loss: 4.5493 0.2865 sec/batch\n",
      "Nearest to american: actor, sir, born, composer, georges, adrian, comedy, mongols,\n",
      "Nearest to have: sacrifices, cheek, renting, unctad, confessed, allowing, or, exceptions,\n",
      "Nearest to all: moderators, symbology, intersex, regard, illustrative, troth, copland, personally,\n",
      "Nearest to in: and, cities, federated, the, was, pessoa, imprecise, hurley,\n",
      "Nearest to that: culpability, individuals, difficulty, entitled, landtag, decrypted, custom, sender,\n",
      "Nearest to years: five, gorges, overdose, gpc, repents, loomis, banned, trichechus,\n",
      "Nearest to th: century, preparing, fortified, colonization, and, rer, leap, auld,\n",
      "Nearest to many: asia, alternative, shipped, seeing, pirates, athena, rifting, sequences,\n",
      "Nearest to road: viscount, chambers, jasper, football, sram, hypoxia, indies, registration,\n",
      "Nearest to pre: signaling, ethnic, ghali, rounder, oskar, hindemith, nonstop, astroturf,\n",
      "Nearest to applied: denial, odorless, priestess, institutionalized, folksong, changing, strangled, introductory,\n",
      "Nearest to resources: permanent, totaling, greater, cement, distort, extensive, reflected, products,\n",
      "Nearest to except: quadrant, kirkpatrick, delgado, hastened, conflicts, servitude, lance, inversely,\n",
      "Nearest to san: madox, holdover, festival, hellmuth, pack, prefectures, fission, bfbs,\n",
      "Nearest to construction: mandriva, outset, cool, shivering, boulton, desirability, forty, forall,\n",
      "Nearest to liberal: trustee, bureaucratic, services, prime, horst, guillotined, party, dismounted,\n",
      "Epoch 1/2 Iteration: 8100 Avg. Training loss: 4.5346 0.2933 sec/batch\n",
      "Epoch 1/2 Iteration: 8200 Avg. Training loss: 4.4914 0.2873 sec/batch\n",
      "Epoch 1/2 Iteration: 8300 Avg. Training loss: 4.5258 0.2877 sec/batch\n",
      "Epoch 1/2 Iteration: 8400 Avg. Training loss: 4.4695 0.2856 sec/batch\n",
      "Epoch 1/2 Iteration: 8500 Avg. Training loss: 4.3523 0.2890 sec/batch\n",
      "Epoch 1/2 Iteration: 8600 Avg. Training loss: 4.5403 0.2890 sec/batch\n",
      "Epoch 1/2 Iteration: 8700 Avg. Training loss: 4.4277 0.2923 sec/batch\n",
      "Epoch 1/2 Iteration: 8800 Avg. Training loss: 4.4434 0.2889 sec/batch\n",
      "Epoch 1/2 Iteration: 8900 Avg. Training loss: 4.4891 0.2880 sec/batch\n",
      "Epoch 1/2 Iteration: 9000 Avg. Training loss: 4.4382 0.2906 sec/batch\n",
      "Nearest to american: actor, sir, born, composer, georges, director, adrian, painter,\n",
      "Nearest to have: sacrifices, renting, confessed, cheek, or, unctad, it, allowing,\n",
      "Nearest to all: regard, moderators, troth, copland, intersex, illustrative, personally, transfiguration,\n",
      "Nearest to in: the, and, cities, federated, imprecise, still, dude, pessoa,\n",
      "Nearest to that: culpability, individuals, entitled, decrypted, difficulty, to, sender, custom,\n",
      "Nearest to years: five, overdose, gpc, repents, gorges, male, loomis, havana,\n",
      "Nearest to th: century, preparing, colonization, fortified, rer, myelogenous, leap, auld,\n",
      "Nearest to many: alternative, shipped, efficacy, sequences, pirates, asia, their, seeing,\n",
      "Nearest to road: football, jasper, viscount, chambers, sram, california, indies, hypoxia,\n",
      "Nearest to pre: signaling, ethnic, ghali, rounder, hindemith, outlawed, astroturf, timer,\n",
      "Nearest to applied: denial, odorless, priestess, institutionalized, introductory, pared, folksong, bayezid,\n",
      "Nearest to resources: cement, permanent, totaling, products, greater, distort, kenjutsu, extensive,\n",
      "Nearest to except: quadrant, hastened, conflicts, tactic, suitable, kirkpatrick, conductivity, servitude,\n",
      "Nearest to san: madox, holdover, festival, hellmuth, prefectures, pack, bay, fission,\n",
      "Nearest to construction: cool, mandriva, outset, boulton, shivering, forty, desirability, forall,\n",
      "Nearest to liberal: trustee, bureaucratic, services, party, guillotined, horst, communism, prime,\n",
      "Epoch 1/2 Iteration: 9100 Avg. Training loss: 4.4756 0.2940 sec/batch\n",
      "Epoch 1/2 Iteration: 9200 Avg. Training loss: 4.5020 0.2870 sec/batch\n",
      "Epoch 2/2 Iteration: 9300 Avg. Training loss: 4.4536 0.1353 sec/batch\n",
      "Epoch 2/2 Iteration: 9400 Avg. Training loss: 4.3655 0.2887 sec/batch\n",
      "Epoch 2/2 Iteration: 9500 Avg. Training loss: 4.4099 0.2897 sec/batch\n",
      "Epoch 2/2 Iteration: 9600 Avg. Training loss: 4.3034 0.2880 sec/batch\n",
      "Epoch 2/2 Iteration: 9700 Avg. Training loss: 4.3488 0.2973 sec/batch\n",
      "Epoch 2/2 Iteration: 9800 Avg. Training loss: 4.2965 0.3196 sec/batch\n",
      "Epoch 2/2 Iteration: 9900 Avg. Training loss: 4.3036 0.3070 sec/batch\n",
      "Epoch 2/2 Iteration: 10000 Avg. Training loss: 4.3432 0.2871 sec/batch\n",
      "Nearest to american: actor, sir, adrian, georges, born, composer, ferguson, frank,\n",
      "Nearest to have: sacrifices, renting, or, it, confessed, unctad, cheek, exceptions,\n",
      "Nearest to all: regard, personally, troth, intersex, copland, blaming, moderators, custody,\n",
      "Nearest to in: the, and, cities, still, federated, imprecise, lasts, dude,\n",
      "Nearest to that: to, culpability, entitled, decrypted, individuals, asserts, truth, primacy,\n",
      "Nearest to years: five, repents, overdose, gpc, thirty, gorges, male, loomis,\n",
      "Nearest to th: century, preparing, colonization, rer, fortified, myelogenous, leap, auld,\n",
      "Nearest to many: alternative, efficacy, shipped, asia, pirates, their, rifting, seeing,\n",
      "Nearest to road: football, jasper, chambers, sram, indies, viscount, fencer, california,\n",
      "Nearest to pre: signaling, ethnic, ghali, rounder, elements, hindemith, nonstop, timer,\n",
      "Nearest to applied: denial, odorless, institutionalized, pared, priestess, introductory, used, methods,\n",
      "Nearest to resources: cement, permanent, totaling, skid, distort, greater, products, tunis,\n",
      "Nearest to except: quadrant, wanders, servitude, conductivity, purify, fest, tactic, sleeping,\n",
      "Nearest to san: madox, festival, holdover, hellmuth, bay, pack, prefectures, castle,\n",
      "Nearest to construction: mandriva, cool, outset, shivering, boulton, equals, forty, rift,\n",
      "Nearest to liberal: bureaucratic, trustee, party, services, communism, guillotined, horst, sentiment,\n",
      "Epoch 2/2 Iteration: 10100 Avg. Training loss: 4.3127 0.2967 sec/batch\n",
      "Epoch 2/2 Iteration: 10200 Avg. Training loss: 4.3092 0.2943 sec/batch\n",
      "Epoch 2/2 Iteration: 10300 Avg. Training loss: 4.3253 0.3070 sec/batch\n",
      "Epoch 2/2 Iteration: 10400 Avg. Training loss: 4.3362 0.3214 sec/batch\n",
      "Epoch 2/2 Iteration: 10500 Avg. Training loss: 4.3073 0.3338 sec/batch\n",
      "Epoch 2/2 Iteration: 10600 Avg. Training loss: 4.1936 0.3207 sec/batch\n",
      "Epoch 2/2 Iteration: 10700 Avg. Training loss: 4.3598 0.2880 sec/batch\n",
      "Epoch 2/2 Iteration: 10800 Avg. Training loss: 4.3281 0.2887 sec/batch\n",
      "Epoch 2/2 Iteration: 10900 Avg. Training loss: 4.2997 0.2872 sec/batch\n",
      "Epoch 2/2 Iteration: 11000 Avg. Training loss: 4.3149 0.2876 sec/batch\n",
      "Nearest to american: actor, adrian, sir, mongols, georges, erskine, ferguson, ville,\n",
      "Nearest to have: sacrifices, renting, or, cheek, confessed, unctad, it, allowing,\n",
      "Nearest to all: regard, personally, copland, illustrative, moderators, intersex, troth, custody,\n",
      "Nearest to in: the, cities, and, still, troubles, imprecise, federated, dude,\n",
      "Nearest to that: culpability, entitled, to, difficulty, decrypted, him, asserts, eln,\n",
      "Nearest to years: five, overdose, gpc, repents, male, thirty, flywheels, loomis,\n",
      "Nearest to th: century, preparing, rer, fortified, colonization, myelogenous, leap, auld,\n",
      "Nearest to many: alternative, shipped, pirates, asia, efficacy, za, rifting, their,\n",
      "Nearest to road: football, fencer, saronic, jasper, chambers, indies, sram, nervousness,\n",
      "Nearest to pre: signaling, ethnic, rounder, ghali, edmond, hindemith, nonstop, oskar,\n",
      "Nearest to applied: odorless, denial, pared, priestess, used, institutionalized, methods, changing,\n",
      "Nearest to resources: permanent, cement, totaling, products, extensive, distort, skid, greater,\n",
      "Nearest to except: wanders, quadrant, purify, directorate, tribesmen, fest, servitude, sleeping,\n",
      "Nearest to san: madox, festival, holdover, bay, hellmuth, bfbs, pack, castle,\n",
      "Nearest to construction: outset, mandriva, cool, shivering, boulton, equals, crowd, forall,\n",
      "Nearest to liberal: bureaucratic, trustee, communism, guillotined, party, sentiment, services, prime,\n",
      "Epoch 2/2 Iteration: 11100 Avg. Training loss: 4.2921 0.2946 sec/batch\n",
      "Epoch 2/2 Iteration: 11200 Avg. Training loss: 4.3333 0.2866 sec/batch\n",
      "Epoch 2/2 Iteration: 11300 Avg. Training loss: 4.3180 0.2871 sec/batch\n",
      "Epoch 2/2 Iteration: 11400 Avg. Training loss: 4.2768 0.2883 sec/batch\n",
      "Epoch 2/2 Iteration: 11500 Avg. Training loss: 4.2425 0.2881 sec/batch\n",
      "Epoch 2/2 Iteration: 11600 Avg. Training loss: 4.1897 0.2871 sec/batch\n",
      "Epoch 2/2 Iteration: 11700 Avg. Training loss: 4.2794 0.2888 sec/batch\n",
      "Epoch 2/2 Iteration: 11800 Avg. Training loss: 4.2637 0.2894 sec/batch\n",
      "Epoch 2/2 Iteration: 11900 Avg. Training loss: 4.2493 0.2874 sec/batch\n",
      "Epoch 2/2 Iteration: 12000 Avg. Training loss: 4.2304 0.2896 sec/batch\n",
      "Nearest to american: mongols, adrian, actor, wolfenstein, sir, ville, optimization, greenman,\n",
      "Nearest to have: sacrifices, or, renting, unctad, confessed, term, it, grasp,\n",
      "Nearest to all: intersex, regard, illustrative, troth, the, transfiguration, copland, frac,\n",
      "Nearest to in: imprecise, still, cities, the, and, troubles, nautical, it,\n",
      "Nearest to that: to, culpability, difficulty, principle, asserts, custom, behavioral, undue,\n",
      "Nearest to years: five, male, gpc, overdose, repents, four, gorges, flywheels,\n",
      "Nearest to th: century, preparing, fortified, rer, colonization, myelogenous, leap, auld,\n",
      "Nearest to many: alternative, asia, shipped, pirates, efficacy, their, rifting, za,\n",
      "Nearest to road: football, fencer, california, jasper, saronic, indies, sram, bloating,\n",
      "Nearest to pre: signaling, ethnic, ghali, rounder, edmond, elements, hindemith, nonstop,\n",
      "Nearest to applied: odorless, used, denial, pared, priestess, institutionalized, introductory, methods,\n",
      "Nearest to resources: permanent, cement, extensive, totaling, products, distort, greater, kenjutsu,\n",
      "Nearest to except: wanders, quadrant, tribesmen, directorate, fest, purify, mno, servitude,\n",
      "Nearest to san: festival, madox, bay, holdover, bfbs, pack, prefectures, castle,\n",
      "Nearest to construction: mandriva, outset, shivering, cool, forall, boulton, pirated, damaged,\n",
      "Nearest to liberal: bureaucratic, trustee, party, communism, guillotined, services, prime, apa,\n",
      "Epoch 2/2 Iteration: 12100 Avg. Training loss: 4.2677 0.2935 sec/batch\n",
      "Epoch 2/2 Iteration: 12200 Avg. Training loss: 4.2772 0.2865 sec/batch\n",
      "Epoch 2/2 Iteration: 12300 Avg. Training loss: 4.2721 0.2871 sec/batch\n",
      "Epoch 2/2 Iteration: 12400 Avg. Training loss: 4.2627 0.2880 sec/batch\n",
      "Epoch 2/2 Iteration: 12500 Avg. Training loss: 4.2353 0.2877 sec/batch\n",
      "Epoch 2/2 Iteration: 12600 Avg. Training loss: 4.3164 0.2874 sec/batch\n",
      "Epoch 2/2 Iteration: 12700 Avg. Training loss: 4.2038 0.2881 sec/batch\n",
      "Epoch 2/2 Iteration: 12800 Avg. Training loss: 4.2833 0.2883 sec/batch\n",
      "Epoch 2/2 Iteration: 12900 Avg. Training loss: 4.2702 0.2869 sec/batch\n",
      "Epoch 2/2 Iteration: 13000 Avg. Training loss: 4.2671 0.2877 sec/batch\n",
      "Nearest to american: actor, adrian, erskine, sir, ferguson, saxophonist, ville, georges,\n",
      "Nearest to have: sacrifices, or, confessed, renting, cheek, converts, unctad, humanity,\n",
      "Nearest to all: intersex, regard, illustrative, troth, copland, personally, transfiguration, the,\n",
      "Nearest to in: imprecise, and, cities, still, the, wide, federated, it,\n",
      "Nearest to that: to, culpability, difficulty, accidental, principle, undue, surpass, feared,\n",
      "Nearest to years: five, male, gpc, repents, alexandria, overdose, four, flywheels,\n",
      "Nearest to th: century, preparing, rer, fortified, leap, colonization, myelogenous, auld,\n",
      "Nearest to many: alternative, asia, efficacy, shipped, rifting, circumcisions, skills, za,\n",
      "Nearest to road: football, indies, fencer, saronic, jasper, viscount, chambers, california,\n",
      "Nearest to pre: signaling, ethnic, ghali, rounder, outlawed, synonymous, elements, edmond,\n",
      "Nearest to applied: odorless, used, priestess, pared, introductory, institutionalized, reflected, denial,\n",
      "Nearest to resources: cement, extensive, permanent, products, totaling, distort, busts, greater,\n",
      "Nearest to except: wanders, quadrant, suitable, if, inversely, conductivity, kirkpatrick, fest,\n",
      "Nearest to san: madox, bay, festival, holdover, bfbs, pack, hellmuth, castle,\n",
      "Nearest to construction: mandriva, shivering, outset, forall, equals, boulton, cool, pirated,\n",
      "Nearest to liberal: bureaucratic, trustee, party, communism, guillotined, services, decrees, sentiment,\n",
      "Epoch 2/2 Iteration: 13100 Avg. Training loss: 4.3218 0.2952 sec/batch\n",
      "Epoch 2/2 Iteration: 13200 Avg. Training loss: 4.3021 0.2878 sec/batch\n",
      "Epoch 2/2 Iteration: 13300 Avg. Training loss: 4.1707 0.2882 sec/batch\n",
      "Epoch 2/2 Iteration: 13400 Avg. Training loss: 4.2969 0.2887 sec/batch\n",
      "Epoch 2/2 Iteration: 13500 Avg. Training loss: 4.2084 0.2877 sec/batch\n",
      "Epoch 2/2 Iteration: 13600 Avg. Training loss: 4.2416 0.2873 sec/batch\n",
      "Epoch 2/2 Iteration: 13700 Avg. Training loss: 4.2365 0.2885 sec/batch\n",
      "Epoch 2/2 Iteration: 13800 Avg. Training loss: 4.2964 0.2877 sec/batch\n",
      "Epoch 2/2 Iteration: 13900 Avg. Training loss: 4.1908 0.2882 sec/batch\n",
      "Epoch 2/2 Iteration: 14000 Avg. Training loss: 4.2317 0.2875 sec/batch\n",
      "Nearest to american: actor, adrian, sir, erskine, mongols, ville, ferguson, kathryn,\n",
      "Nearest to have: sacrifices, confessed, renting, or, unctad, phase, converts, term,\n",
      "Nearest to all: intersex, regard, transfiguration, illustrative, copland, troth, personally, afterlife,\n",
      "Nearest to in: imprecise, and, the, cities, still, schedules, contexts, throughout,\n",
      "Nearest to that: culpability, to, undue, feared, difficulty, principle, decrypted, misguided,\n",
      "Nearest to years: five, male, gpc, repents, overdose, fertility, four, thirty,\n",
      "Nearest to th: century, preparing, rer, leap, colonization, fortified, myelogenous, vikram,\n",
      "Nearest to many: alternative, asia, za, ohr, pirates, rifting, nuke, herself,\n",
      "Nearest to road: fencer, football, saronic, indies, jasper, nervousness, viscount, sram,\n",
      "Nearest to pre: signaling, ethnic, ghali, outlawed, synonymous, oskar, elements, colony,\n",
      "Nearest to applied: odorless, introductory, priestess, used, institutionalized, denial, pared, reflected,\n",
      "Nearest to resources: permanent, extensive, cement, products, totaling, kenjutsu, bock, tunis,\n",
      "Nearest to except: wanders, if, affray, directorate, purify, quadrant, inversely, suitable,\n",
      "Nearest to san: madox, holdover, festival, bay, bfbs, hellmuth, pack, fiddle,\n",
      "Nearest to construction: mandriva, shivering, outset, pirated, buildings, forall, boulton, damaged,\n",
      "Nearest to liberal: bureaucratic, trustee, party, communism, decrees, guillotined, services, sentiment,\n",
      "Epoch 2/2 Iteration: 14100 Avg. Training loss: 4.3043 0.2953 sec/batch\n",
      "Epoch 2/2 Iteration: 14200 Avg. Training loss: 4.1833 0.2854 sec/batch\n",
      "Epoch 2/2 Iteration: 14300 Avg. Training loss: 4.2222 0.2878 sec/batch\n",
      "Epoch 2/2 Iteration: 14400 Avg. Training loss: 4.2608 0.2879 sec/batch\n",
      "Epoch 2/2 Iteration: 14500 Avg. Training loss: 4.2076 0.2878 sec/batch\n",
      "Epoch 2/2 Iteration: 14600 Avg. Training loss: 4.1828 0.2878 sec/batch\n",
      "Epoch 2/2 Iteration: 14700 Avg. Training loss: 4.2423 0.2888 sec/batch\n",
      "Epoch 2/2 Iteration: 14800 Avg. Training loss: 4.2067 0.2876 sec/batch\n",
      "Epoch 2/2 Iteration: 14900 Avg. Training loss: 4.2575 0.2871 sec/batch\n",
      "Epoch 2/2 Iteration: 15000 Avg. Training loss: 4.2406 0.2900 sec/batch\n",
      "Nearest to american: actor, adrian, ville, ferguson, erskine, mongols, sir, kathryn,\n",
      "Nearest to have: sacrifices, renting, confessed, unctad, converts, or, financi, even,\n",
      "Nearest to all: intersex, regard, symbology, transfiguration, realists, copland, multiracial, troth,\n",
      "Nearest to in: imprecise, the, and, subdivisions, federated, lasts, cities, maximilian,\n",
      "Nearest to that: culpability, to, feared, privations, undue, strive, senatorial, difficulty,\n",
      "Nearest to years: five, male, gpc, repents, flywheels, fertility, overdose, alexandria,\n",
      "Nearest to th: century, preparing, rer, leap, fortified, myelogenous, colonization, vikram,\n",
      "Nearest to many: alternative, rifting, pirates, asia, za, ohr, skills, efficacy,\n",
      "Nearest to road: fencer, saronic, football, indies, jasper, nervousness, chambers, sram,\n",
      "Nearest to pre: signaling, ethnic, ghali, synonymous, elements, praecox, edmond, outlawed,\n",
      "Nearest to applied: odorless, introductory, denial, priestess, pared, used, institutionalized, reflected,\n",
      "Nearest to resources: permanent, extensive, cement, products, totaling, distort, kenjutsu, tunis,\n",
      "Nearest to except: wanders, quadrant, affray, if, purify, emc, each, directorate,\n",
      "Nearest to san: madox, holdover, hellmuth, festival, bfbs, fiddle, pack, bay,\n",
      "Nearest to construction: mandriva, shivering, pirated, outset, forall, boulton, desirability, priced,\n",
      "Nearest to liberal: bureaucratic, trustee, party, communism, decrees, guillotined, sentiment, libertarianism,\n",
      "Epoch 2/2 Iteration: 15100 Avg. Training loss: 4.1770 0.2941 sec/batch\n",
      "Epoch 2/2 Iteration: 15200 Avg. Training loss: 4.2447 0.2898 sec/batch\n",
      "Epoch 2/2 Iteration: 15300 Avg. Training loss: 4.2294 0.2888 sec/batch\n",
      "Epoch 2/2 Iteration: 15400 Avg. Training loss: 4.2241 0.2897 sec/batch\n",
      "Epoch 2/2 Iteration: 15500 Avg. Training loss: 4.2157 0.2877 sec/batch\n",
      "Epoch 2/2 Iteration: 15600 Avg. Training loss: 4.2276 0.2872 sec/batch\n",
      "Epoch 2/2 Iteration: 15700 Avg. Training loss: 4.2201 0.2869 sec/batch\n",
      "Epoch 2/2 Iteration: 15800 Avg. Training loss: 4.1451 0.2885 sec/batch\n",
      "Epoch 2/2 Iteration: 15900 Avg. Training loss: 4.1942 0.2878 sec/batch\n",
      "Epoch 2/2 Iteration: 16000 Avg. Training loss: 4.1765 0.2888 sec/batch\n",
      "Nearest to american: actor, mongols, erskine, adrian, ville, kathryn, ferguson, sir,\n",
      "Nearest to have: sacrifices, renting, confessed, unctad, even, financi, converts, phase,\n",
      "Nearest to all: the, intersex, realists, troth, atc, moderators, percentage, copland,\n",
      "Nearest to in: subdivisions, imprecise, the, and, cities, contexts, still, federated,\n",
      "Nearest to that: to, culpability, feared, difficulty, individuals, privations, undue, surpass,\n",
      "Nearest to years: five, male, gpc, repents, population, fertility, four, gorges,\n",
      "Nearest to th: century, preparing, fortified, rer, colonization, leap, vikram, myelogenous,\n",
      "Nearest to many: alternative, asia, skills, shipped, rifting, za, popular, their,\n",
      "Nearest to road: fencer, football, indies, jasper, saronic, sram, viscount, nervousness,\n",
      "Nearest to pre: signaling, ghali, ethnic, synonymous, edmond, elements, outlawed, praecox,\n",
      "Nearest to applied: odorless, institutionalized, priestess, used, reflected, denial, introductory, pittori,\n",
      "Nearest to resources: extensive, permanent, cement, products, totaling, greater, kenjutsu, distort,\n",
      "Nearest to except: wanders, affray, quadrant, purify, borrowings, if, emc, kirkpatrick,\n",
      "Nearest to san: madox, holdover, bfbs, hellmuth, festival, fiddle, pack, prefectures,\n",
      "Nearest to construction: mandriva, shivering, forall, pirated, sells, outset, soaked, sidewalk,\n",
      "Nearest to liberal: bureaucratic, trustee, party, communism, guillotined, decrees, sentiment, libertarianism,\n",
      "Epoch 2/2 Iteration: 16100 Avg. Training loss: 4.1459 0.2922 sec/batch\n",
      "Epoch 2/2 Iteration: 16200 Avg. Training loss: 4.2706 0.2891 sec/batch\n",
      "Epoch 2/2 Iteration: 16300 Avg. Training loss: 4.1450 0.2894 sec/batch\n",
      "Epoch 2/2 Iteration: 16400 Avg. Training loss: 4.1711 0.2888 sec/batch\n",
      "Epoch 2/2 Iteration: 16500 Avg. Training loss: 4.2275 0.2882 sec/batch\n",
      "Epoch 2/2 Iteration: 16600 Avg. Training loss: 4.2779 0.2884 sec/batch\n",
      "Epoch 2/2 Iteration: 16700 Avg. Training loss: 4.2088 0.2887 sec/batch\n",
      "Epoch 2/2 Iteration: 16800 Avg. Training loss: 4.2836 0.2886 sec/batch\n",
      "Epoch 2/2 Iteration: 16900 Avg. Training loss: 4.2739 0.2871 sec/batch\n",
      "Epoch 2/2 Iteration: 17000 Avg. Training loss: 4.2586 0.2855 sec/batch\n",
      "Nearest to american: actor, adrian, erskine, ferguson, magee, saxophonist, kathryn, korner,\n",
      "Nearest to have: sacrifices, renting, confessed, unctad, cheek, phase, even, imaginations,\n",
      "Nearest to all: afterlife, intersex, symbology, moderators, troth, regard, realists, copland,\n",
      "Nearest to in: the, federated, and, subdivisions, throughout, cities, members, troubles,\n",
      "Nearest to that: culpability, to, feared, strive, striving, him, senatorial, privations,\n",
      "Nearest to years: five, gpc, male, fertility, repents, kalmyk, flywheels, gorges,\n",
      "Nearest to th: century, preparing, leap, fortified, rer, colonization, myelogenous, vikram,\n",
      "Nearest to many: alternative, asia, contemporary, pirates, za, popular, proletarians, herself,\n",
      "Nearest to road: fencer, football, saronic, jasper, viscount, indies, sram, nervousness,\n",
      "Nearest to pre: signaling, ghali, ethnic, edmond, elements, outlawed, praecox, synonymous,\n",
      "Nearest to applied: odorless, institutionalized, priestess, reflected, denial, bayezid, treading, pittori,\n",
      "Nearest to resources: permanent, cement, extensive, products, vld, arable, kenjutsu, tunis,\n",
      "Nearest to except: wanders, affray, purify, quadrant, borrowings, emc, if, kirkpatrick,\n",
      "Nearest to san: madox, holdover, fiddle, festival, bfbs, hellmuth, pack, sidekick,\n",
      "Nearest to construction: mandriva, outset, pirated, forall, shivering, centres, equals, verulamium,\n",
      "Nearest to liberal: bureaucratic, trustee, party, guillotined, communism, decrees, sentiment, libertarianism,\n",
      "Epoch 2/2 Iteration: 17100 Avg. Training loss: 4.0885 0.2943 sec/batch\n",
      "Epoch 2/2 Iteration: 17200 Avg. Training loss: 4.1965 0.2877 sec/batch\n",
      "Epoch 2/2 Iteration: 17300 Avg. Training loss: 4.1379 0.2870 sec/batch\n",
      "Epoch 2/2 Iteration: 17400 Avg. Training loss: 4.1715 0.2852 sec/batch\n",
      "Epoch 2/2 Iteration: 17500 Avg. Training loss: 4.2344 0.2865 sec/batch\n",
      "Epoch 2/2 Iteration: 17600 Avg. Training loss: 4.1499 0.2882 sec/batch\n",
      "Epoch 2/2 Iteration: 17700 Avg. Training loss: 4.0323 0.2868 sec/batch\n",
      "Epoch 2/2 Iteration: 17800 Avg. Training loss: 4.1359 0.2885 sec/batch\n",
      "Epoch 2/2 Iteration: 17900 Avg. Training loss: 4.1504 0.2881 sec/batch\n",
      "Epoch 2/2 Iteration: 18000 Avg. Training loss: 4.1626 0.2880 sec/batch\n",
      "Nearest to american: actor, adrian, erskine, saxophonist, siouxsie, magee, kathryn, ferguson,\n",
      "Nearest to have: sacrifices, renting, confessed, unctad, financi, phase, converts, even,\n",
      "Nearest to all: moderators, troth, atc, percentage, intersex, regard, afterlife, symbology,\n",
      "Nearest to in: federated, the, imprecise, and, subdivisions, cities, preferences, still,\n",
      "Nearest to that: to, culpability, feared, strive, said, falsifiable, accidental, privations,\n",
      "Nearest to years: five, population, male, fertility, gpc, migration, infant, expectancy,\n",
      "Nearest to th: century, preparing, leap, fortified, rer, vikram, colonization, myelogenous,\n",
      "Nearest to many: alternative, contemporary, popular, their, pirates, proletarians, za, bonne,\n",
      "Nearest to road: fencer, football, viscount, jasper, saronic, indies, nervousness, sram,\n",
      "Nearest to pre: signaling, ghali, ethnic, praecox, elements, volcanic, outlawed, synonymous,\n",
      "Nearest to applied: odorless, priestess, institutionalized, introductory, denial, treading, bayezid, used,\n",
      "Nearest to resources: permanent, cement, extensive, products, arable, distort, kenjutsu, similes,\n",
      "Nearest to except: wanders, affray, purify, quadrant, emc, borrowings, suitable, hastened,\n",
      "Nearest to san: madox, holdover, fiddle, festival, bfbs, hellmuth, sparking, bay,\n",
      "Nearest to construction: mandriva, outset, forall, equals, centres, verulamium, pirated, slanted,\n",
      "Nearest to liberal: bureaucratic, trustee, party, libertarianism, communism, guillotined, decrees, apa,\n",
      "Epoch 2/2 Iteration: 18100 Avg. Training loss: 4.1549 0.2933 sec/batch\n",
      "Epoch 2/2 Iteration: 18200 Avg. Training loss: 4.1874 0.2877 sec/batch\n",
      "Epoch 2/2 Iteration: 18300 Avg. Training loss: 4.1296 0.2871 sec/batch\n",
      "Epoch 2/2 Iteration: 18400 Avg. Training loss: 4.1787 0.2878 sec/batch\n",
      "Epoch 2/2 Iteration: 18500 Avg. Training loss: 4.2275 0.2892 sec/batch\n"
     ]
    }
   ],
   "source": [
    "epochs = 2\n",
    "batch_size = 500\n",
    "window_size = 10\n",
    "\n",
    "    #epochs = 10\n",
    "    #batch_size = 1000\n",
    "    #window_size = 10\n",
    "\n",
    "with train_graph.as_default():\n",
    "    saver = tf.train.Saver()\n",
    "\n",
    "with tf.Session(graph=train_graph) as sess:\n",
    "    iteration = 1\n",
    "    loss = 0\n",
    "    sess.run(tf.global_variables_initializer())\n",
    "\n",
    "    for e in range(1, epochs+1):\n",
    "        batches = get_batches(train_words, batch_size, window_size)\n",
    "        start = time.time()\n",
    "        for x, y in batches:\n",
    "            \n",
    "            feed = {inputs: x,\n",
    "                    labels: np.array(y)[:, None]}\n",
    "            train_loss, _ = sess.run([cost, optimizer], feed_dict=feed)\n",
    "            \n",
    "            loss += train_loss\n",
    "            \n",
    "            if iteration % 100 == 0: \n",
    "                end = time.time()\n",
    "                print(\"Epoch {}/{}\".format(e, epochs),\n",
    "                      \"Iteration: {}\".format(iteration),\n",
    "                      \"Avg. Training loss: {:.4f}\".format(loss/100),\n",
    "                      \"{:.4f} sec/batch\".format((end-start)/100))\n",
    "                loss = 0\n",
    "                start = time.time()\n",
    "            \n",
    "            if iteration % 1000 == 0:\n",
    "                ## From Thushan Ganegedara's implementation\n",
    "                # note that this is expensive (~20% slowdown if computed every 500 steps)\n",
    "                sim = similarity.eval()\n",
    "                for i in range(valid_size):\n",
    "                    valid_word = int_to_vocab[valid_examples[i]]\n",
    "                    top_k = 8 # number of nearest neighbors\n",
    "                    nearest = (-sim[i, :]).argsort()[1:top_k+1]\n",
    "                    log = 'Nearest to %s:' % valid_word\n",
    "                    for k in range(top_k):\n",
    "                        close_word = int_to_vocab[nearest[k]]\n",
    "                        log = '%s %s,' % (log, close_word)\n",
    "                    print(log)\n",
    "            \n",
    "            iteration += 1\n",
    "    save_path = saver.save(sess, \"checkpoints/text8.ckpt\")\n",
    "    embed_mat = sess.run(normalized_embedding)"
   ]
  },
  {
   "cell_type": "markdown",
   "metadata": {
    "deletable": true,
    "editable": true
   },
   "source": [
    "Restore the trained network if you need to:"
   ]
  },
  {
   "cell_type": "code",
   "execution_count": null,
   "metadata": {
    "collapsed": true,
    "deletable": true,
    "editable": true
   },
   "outputs": [],
   "source": [
    "with train_graph.as_default():\n",
    "    saver = tf.train.Saver()\n",
    "\n",
    "with tf.Session(graph=train_graph) as sess:\n",
    "    saver.restore(sess, tf.train.latest_checkpoint('checkpoints'))\n",
    "    embed_mat = sess.run(embedding)"
   ]
  },
  {
   "cell_type": "markdown",
   "metadata": {
    "deletable": true,
    "editable": true
   },
   "source": [
    "## Visualizing the word vectors\n",
    "\n",
    "Below we'll use T-SNE to visualize how our high-dimensional word vectors cluster together. T-SNE is used to project these vectors into two dimensions while preserving local stucture. Check out [this post from Christopher Olah](http://colah.github.io/posts/2014-10-Visualizing-MNIST/) to learn more about T-SNE and other ways to visualize high-dimensional data."
   ]
  },
  {
   "cell_type": "code",
   "execution_count": 26,
   "metadata": {
    "collapsed": true,
    "deletable": true,
    "editable": true
   },
   "outputs": [],
   "source": [
    "%matplotlib inline\n",
    "%config InlineBackend.figure_format = 'retina'\n",
    "\n",
    "import matplotlib.pyplot as plt\n",
    "from sklearn.manifold import TSNE"
   ]
  },
  {
   "cell_type": "code",
   "execution_count": 29,
   "metadata": {
    "collapsed": true,
    "deletable": true,
    "editable": true
   },
   "outputs": [],
   "source": [
    "viz_words = 100\n",
    "tsne = TSNE()\n",
    "embed_tsne = tsne.fit_transform(embed_mat[:viz_words, :])"
   ]
  },
  {
   "cell_type": "code",
   "execution_count": 30,
   "metadata": {
    "collapsed": false,
    "deletable": true,
    "editable": true
   },
   "outputs": [
    {
     "data": {
      "image/png": "[encoded data removed]",
      "text/plain": [
       "<matplotlib.figure.Figure at 0x1b0352075f8>"
      ]
     },
     "metadata": {
      "image/png": {
       "height": 793,
       "width": 831
      }
     },
     "output_type": "display_data"
    }
   ],
   "source": [
    "fig, ax = plt.subplots(figsize=(14, 14))\n",
    "for idx in range(viz_words):\n",
    "    plt.scatter(*embed_tsne[idx, :], color='steelblue')\n",
    "    plt.annotate(int_to_vocab[idx], (embed_tsne[idx, 0], embed_tsne[idx, 1]), alpha=0.7)"
   ]
  },
  {
   "cell_type": "code",
   "execution_count": null,
   "metadata": {
    "collapsed": true,
    "deletable": true,
    "editable": true
   },
   "outputs": [],
   "source": []
  }
 ],
 "metadata": {
  "anaconda-cloud": {},
  "kernelspec": {
   "display_name": "Python [default]",
   "language": "python",
   "name": "python3"
  },
  "language_info": {
   "codemirror_mode": {
    "name": "ipython",
    "version": 3
   },
   "file_extension": ".py",
   "mimetype": "text/x-python",
   "name": "python",
   "nbconvert_exporter": "python",
   "pygments_lexer": "ipython3",
   "version": "3.5.3"
  }
 },
 "nbformat": 4,
 "nbformat_minor": 2
}
